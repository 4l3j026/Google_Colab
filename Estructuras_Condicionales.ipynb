{
  "nbformat": 4,
  "nbformat_minor": 0,
  "metadata": {
    "colab": {
      "provenance": [],
      "include_colab_link": true
    },
    "kernelspec": {
      "name": "python3",
      "display_name": "Python 3"
    },
    "language_info": {
      "name": "python"
    }
  },
  "cells": [
    {
      "cell_type": "markdown",
      "metadata": {
        "id": "view-in-github",
        "colab_type": "text"
      },
      "source": [
        "<a href=\"https://colab.research.google.com/github/4l3j026/Google_Colab/blob/main/Estructuras_Condicionales.ipynb\" target=\"_parent\"><img src=\"https://colab.research.google.com/assets/colab-badge.svg\" alt=\"Open In Colab\"/></a>"
      ]
    },
    {
      "cell_type": "markdown",
      "metadata": {
        "id": "jwaKatGwfqpD"
      },
      "source": [
        "## **Estructuras de Control de flujo - Condicionales**\n",
        "---\n",
        "\n",
        "*Python* es un lenguaje que depende del uso de espacios e indentación para el reconocimiento de bloques de código. Cada línea de texto es una sentencia que es ejecutada de manera secuencial. Hasta el momento, se han presentado valores, operadores y funciones que se ejecutan de esta manera, línea por línea. Existen distintas palabras reservadas que permiten emplear ordenes no secuenciales para la ejecución de las sentencias de código. Estas se conocen como **estructuras de control de flujo**.\n",
        "\n",
        "Redondeando la idea anterior, en las estructuras de control de flujo se busca ejecutar código **solo** cuando algo se cumpla.\n",
        "\n"
      ]
    },
    {
      "cell_type": "code",
      "source": [],
      "metadata": {
        "id": "P0hKoJjhheyJ"
      },
      "execution_count": null,
      "outputs": []
    },
    {
      "cell_type": "markdown",
      "source": [],
      "metadata": {
        "id": "JsR2-uxGhfUJ"
      }
    },
    {
      "cell_type": "code",
      "source": [],
      "metadata": {
        "id": "dopV5dt7hgBY"
      },
      "execution_count": null,
      "outputs": []
    },
    {
      "cell_type": "markdown",
      "source": [
        "**Repaso breve de expresiones lógicas y operadores relacionales**"
      ],
      "metadata": {
        "id": "PVLtVA2otJLd"
      }
    },
    {
      "cell_type": "code",
      "source": [
        "# ¿La cadena 'Hola Mundo' solo tiene caracteres en mayúscula? -> FALSO\n",
        "\"Hola Mundo\".islower()"
      ],
      "metadata": {
        "id": "ZaXOvnmUs7az",
        "colab": {
          "base_uri": "https://localhost:8080/"
        },
        "outputId": "7a0768d3-0a62-43ae-b0cb-9346de43e452"
      },
      "execution_count": null,
      "outputs": [
        {
          "output_type": "execute_result",
          "data": {
            "text/plain": [
              "False"
            ]
          },
          "metadata": {},
          "execution_count": 1
        }
      ]
    },
    {
      "cell_type": "code",
      "source": [
        "# ¿La cadena 'Hola Mundo' solo tiene caracteres en mayúscula? -> FALSO\n",
        "\"Hola Mundo\".isupper()"
      ],
      "metadata": {
        "id": "KH2pEcAotfDs",
        "colab": {
          "base_uri": "https://localhost:8080/"
        },
        "outputId": "f5b92156-fd0e-439d-faf3-dd0af2a09741"
      },
      "execution_count": null,
      "outputs": [
        {
          "output_type": "execute_result",
          "data": {
            "text/plain": [
              "False"
            ]
          },
          "metadata": {},
          "execution_count": 2
        }
      ]
    },
    {
      "cell_type": "code",
      "source": [
        "# ¿La cadena '1299' solo tiene dígitos del 0 al 9? -> VERDADERO\n",
        "\"1299\".isdigit()"
      ],
      "metadata": {
        "id": "KBK46PiWtrY3",
        "colab": {
          "base_uri": "https://localhost:8080/"
        },
        "outputId": "30ac4ea0-c2d1-4e5a-c755-8aff3936f18b"
      },
      "execution_count": null,
      "outputs": [
        {
          "output_type": "execute_result",
          "data": {
            "text/plain": [
              "True"
            ]
          },
          "metadata": {},
          "execution_count": 3
        }
      ]
    },
    {
      "cell_type": "markdown",
      "source": [
        "A continuación, la lista completa de operadores relacionales aceptados en _Python_, con su significado, reglas de escritura y equivalente en notación matemática.\n",
        "\n",
        "| **Símbolos del operador** | **Operación representada** | **Escritura** | **Notación matemática** |\n",
        "| --- | --- | --- | --- |\n",
        "| **`==`** | Igual que | **`a == b`** | $a = b$ |\n",
        "| **`!=`** | Distinto que | **`a != b`** | $a \\ne b$ |\n",
        "| **`>`**  | Mayor que | **`a > b`** |$a \\gt b$ |\n",
        "| **`<`**  | Menor que | **`a < b`** | $a \\lt b$ |\n",
        "| **`>=`**  | Mayor o igual que | **`a >= b`** | $a \\ge b$ |\n",
        "| **`<=`**  | Menor o igual que | **`a <= b`** | $a \\le b$ |"
      ],
      "metadata": {
        "id": "TjrR9l_9t-J3"
      }
    },
    {
      "cell_type": "markdown",
      "source": [
        "**Operadores lógicos**"
      ],
      "metadata": {
        "id": "o5juksuLucCv"
      }
    },
    {
      "cell_type": "markdown",
      "source": [
        "Veamos una tabla (conocida típicamente como tabla de verdad) con las posibles combinaciones de valores de $A$ y $B$ para la conjunción.\n",
        "\n",
        "\n",
        "| **Valor de $A$** | **Valor de $B$** | **Valor de $A \\wedge B$** |\n",
        "| --- | --- | --- |\n",
        "| Falso (**`False`**) | Falso (**`False`**) | Falso (**`False`**) |\n",
        "| Falso (**`False`**) | Verdadero (**`True`**) | Falso (**`False`**) |\n",
        "| Verdadero (**`True`**) | Falso (**`False`**) | Falso (**`False`**) |\n",
        "| **Verdadero** (**`True`**) | **Verdadero** (**`True`**) | **Verdadero** (**`True`**) |"
      ],
      "metadata": {
        "id": "05p0SCPquTDb"
      }
    },
    {
      "cell_type": "code",
      "source": [
        "# Ejemplo del pedido y el stock.\n",
        "n_pedido = 200\n",
        "n_inventario = 100\n",
        "\n",
        "(n_pedido > 0) and (n_pedido <= n_inventario)"
      ],
      "metadata": {
        "id": "BrzekZpyujmm",
        "colab": {
          "base_uri": "https://localhost:8080/"
        },
        "outputId": "6d423279-ad9d-4521-def2-5c28f55e99f5"
      },
      "execution_count": null,
      "outputs": [
        {
          "output_type": "execute_result",
          "data": {
            "text/plain": [
              "False"
            ]
          },
          "metadata": {},
          "execution_count": 4
        }
      ]
    },
    {
      "cell_type": "markdown",
      "source": [
        "Veamos la tabla de verdad con las posibles combinaciones de valores de $A$ y $B$ para la disyunción.\n",
        "\n",
        "| **Valor de $A$** | **Valor de $B$** | **Valor de $A \\lor B$** |\n",
        "| --- | --- | --- |\n",
        "| Falso (**`False`**) | Falso (**`False`**) | Falso (**`False`**) |\n",
        "| Falso (**`False`**) | **Verdadero** (**`True`**)  | **Verdadero** (**`True`**)  |\n",
        "| **Verdadero** (**`True`**) | Falso (**`False`**) | **Verdadero** (**`True`**)  |\n",
        "| **Verdadero** (**`True`**) | **Verdadero** (**`True`**) | **Verdadero** (**`True`**) |\n",
        "\n",
        "Realicemos la ejecución de los casos de la tabla:"
      ],
      "metadata": {
        "id": "MRNj_0l2ut-m"
      }
    },
    {
      "cell_type": "code",
      "source": [
        "# Ejemplo del registro con teléfono o email.\n",
        "\n",
        "is_valid_email = False\n",
        "is_valid_phone = True\n",
        "\n",
        "is_valid_email or is_valid_phone"
      ],
      "metadata": {
        "id": "8ooyc2_luu3n"
      },
      "execution_count": null,
      "outputs": []
    },
    {
      "cell_type": "markdown",
      "metadata": {
        "id": "MtAl93XSEUo3"
      },
      "source": [
        "> **¿En qué orden se evalúan los operadores lógicos?**\n",
        "\n",
        "Podemos expandir nuevamente la tabla de precedencia de operadores. En este caso, los operadores lógicos tienen la menor precedencia de los operadores introducidos (sin contar la asignación) y tienen valores distintos de precedencia. El primer valor en evaluarse es la negación **`not`**, luego la conjunción **`and`** y finalmente la disyunción **`or`**.\n",
        "\n",
        "| Operador | Asociatividad | Descripción |\n",
        "| --- | --- | --- |\n",
        "| **`(expresión)`** |  Izquierda a derecha | Expresión en paréntesis. |\n",
        "|  __`**`__  | Derecha a izquierda | Exponenciación. |\n",
        "| **`-x`**, **`+x`** | Izquierda a derecha | Positivo y negativo. |\n",
        "| **`*`**, **`/`**, **`%`** , **`//`**|Izquierda a derecha |  Multiplicación, división, módulo y división piso. |\n",
        "| **`+`**, **`-`**| Izquierda a derecha | Adición y substracción. |\n",
        "| **`==`**, **`!=`**, **`>`**,**`<`**, **`>=`**, **`<=`**| **Izquierda a derecha** | **Operadores relacionales.** |\n",
        "| **`not`** |  **Izquierda a derecha** | **Negación lógica.** |\n",
        "| **`and`** |  **Izquierda a derecha** | **Disyunción lógica.** |\n",
        "| **`or`** |  **Izquierda a derecha** | **Conjunción lógica.** |\n",
        "| **`=`**| Derecha a izquierda | Asignación. |\n",
        "\n",
        "Veamos un ejemplo de expresión que involucre operadores lógicos, relacionales y matemáticos."
      ]
    },
    {
      "cell_type": "code",
      "source": [
        "not ((5 + 100) / 2 > 23 or 2 ** 8 == 4 ** 4) or not 100 < 100\n",
        "not(105/2>23 or 2**8 == 4**4)or not 100<100\n"
      ],
      "metadata": {
        "colab": {
          "base_uri": "https://localhost:8080/"
        },
        "id": "rKndeG-c_df7",
        "outputId": "4f45395e-7b64-41c1-e69d-23ef864cedbd"
      },
      "execution_count": null,
      "outputs": [
        {
          "output_type": "execute_result",
          "data": {
            "text/plain": [
              "True"
            ]
          },
          "metadata": {},
          "execution_count": 4
        }
      ]
    },
    {
      "cell_type": "markdown",
      "metadata": {
        "id": "pSZ1oAs3fqpF"
      },
      "source": [
        "### **1.1 Expresiones condicionales `if`, `else` y `elif`**\n",
        "---\n",
        "\n",
        "La estructura **`if`** es la estructura condicional, común en muchos lenguajes de programación. Permite definir bloques de código que solo se ejecutan cuando se cumple una condición definida como valor lógico **(Recuerden la guía de la semana pasada y la sección anterior).**\n",
        "Solo con el **`if`**, se decide si un bloque se ejecuta o no. Se usa la siguiente sintaxis:"
      ]
    },
    {
      "cell_type": "markdown",
      "source": [
        "### **1.1.1 Sentencia if**\n",
        "![image.png](data:image/png;base64,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)\n",
        "\n",
        "**Idea General:**\n",
        "* El código viene de una ejecución secuancial para evaluar una condición verdadera.\n",
        "* Si la condición se cumple, sigue con la acción asignada\n",
        "* Si la condición no se cumple, el programa hace un salto para terminar o continuar con la secuencia fuera del condicional\n",
        "\n",
        "```python\n",
        "if CONDICIÓN:\n",
        "  # <---- El bloque de código debe estar correctamente indentado.\n",
        "  # <---- Por lo general se hace con el tabulador (o con 2 espacios en blanco).\n",
        "  # Código que se ejecuta si la condición es VERDADERA.\n",
        "  # ...\n",
        "# Código que se ejecuta si la condición es FALSA o cuando\n",
        "# termine de ejecutarse el código dentro de la estructura.\n",
        "```"
      ],
      "metadata": {
        "id": "17oLbppxwjc0"
      }
    },
    {
      "cell_type": "markdown",
      "source": [
        "**Nota:**\n",
        "Para habilitar la sangía en google colab seguimos la siguiente ruta:\n",
        "Herramientas >> Configuración >> Editor >> Mostrar guías de sangría"
      ],
      "metadata": {
        "id": "KuGql7zayVHF"
      }
    },
    {
      "cell_type": "code",
      "metadata": {
        "id": "fL4SdO_4Dckw",
        "colab": {
          "base_uri": "https://localhost:8080/"
        },
        "outputId": "c0c338a3-484f-4d88-f477-c6f448b25ba8"
      },
      "source": [
        "if (4 > 2): # Condición verdadera - se ejecutará el bloque identado\n",
        "  print('Si')"
      ],
      "execution_count": null,
      "outputs": [
        {
          "output_type": "stream",
          "name": "stdout",
          "text": [
            "Si\n"
          ]
        }
      ]
    },
    {
      "cell_type": "code",
      "metadata": {
        "id": "-NO6UctQDcky",
        "colab": {
          "base_uri": "https://localhost:8080/"
        },
        "outputId": "fad0a960-509e-470e-b7c5-abd5ea2fbdfa"
      },
      "source": [
        "if 5 < 20: # Condición falsa - no se ejecutará el bloque identado\n",
        "  print('Primero')\n",
        "  print('Segundo')\n",
        "print('Tercero') # Esta sentencia siempre se ejecutará porque está por fuera del if (no está identada)"
      ],
      "execution_count": null,
      "outputs": [
        {
          "output_type": "stream",
          "name": "stdout",
          "text": [
            "Primero\n",
            "Segundo\n",
            "Tercero\n"
          ]
        }
      ]
    },
    {
      "cell_type": "code",
      "source": [
        "#Ejemplo básico ---- Saber si el valor de una variable es mayor a 20\n",
        "\n",
        "num = int(input(\"Ingrese un valor entero de su preferencia:\"))\n",
        "\n",
        "#Es muy importante no omitir los (:) en las expresiones\n",
        "if num > 20:\n",
        "  print(\"Los valores permitidos deben ser menores a 20\")\n",
        "print(num)"
      ],
      "metadata": {
        "id": "8Z0jV0eX_oB2",
        "colab": {
          "base_uri": "https://localhost:8080/"
        },
        "outputId": "2925e283-a2ce-4cc4-d9c0-483bca668b87"
      },
      "execution_count": null,
      "outputs": [
        {
          "output_type": "stream",
          "name": "stdout",
          "text": [
            "Ingrese un valor entero de su preferencia:5\n",
            "5\n"
          ]
        }
      ]
    },
    {
      "cell_type": "markdown",
      "metadata": {
        "id": "CWGjEuZ3j1n3"
      },
      "source": [
        "Veamos un ejemplo de ejecución con _Python Tutor_:"
      ]
    },
    {
      "cell_type": "code",
      "metadata": {
        "id": "16TljZX9jhH-"
      },
      "source": [
        "#@markdown * **Ejecute esta celda para instalar _Python Tutor_.**\n",
        "!pip3 -q install tutormagic\n",
        "%load_ext tutormagic"
      ],
      "execution_count": null,
      "outputs": []
    },
    {
      "cell_type": "code",
      "metadata": {
        "id": "AWOjItnrjyEv"
      },
      "source": [
        "#Ejemplo 2 --- Dentro de las condiciones que pueden usarse, se podrían incluir expresiones booleanas\n",
        "%%tutor -s\n",
        "num = 21\n",
        "\n",
        "if num > 20 and num < 100:\n",
        "  num = 20\n",
        "  print('El número máximo permitido es 20.')\n",
        "\n",
        "print(num)"
      ],
      "execution_count": null,
      "outputs": []
    },
    {
      "cell_type": "code",
      "source": [
        "#Ejemplo 3 --- Dentro de las condiciones que pueden usarse, se podrían incluir expresiones booleanas\n",
        "%%tutor -s\n",
        "if True:\n",
        "  print(\"SIEMPRE verás este mensaje.\")\n",
        "\n",
        "if False:\n",
        "  print(\"NUNCA verás este mensaje.\")"
      ],
      "metadata": {
        "id": "1GceaTO0D815"
      },
      "execution_count": null,
      "outputs": []
    },
    {
      "cell_type": "markdown",
      "metadata": {
        "id": "dHMrddG8vGGC"
      },
      "source": [
        "### **1.1.2 Sentencia if - else**\n",
        "\n",
        "![image.png](data:image/png;base64,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)\n",
        "```python\n",
        "if CONDICIÓN:\n",
        "  # Código que se ejecuta si la condición es VERDADERA.\n",
        "  # ...\n",
        "else:\n",
        "  # Código que se ejecuta si la condición es FALSA.\n",
        "  # ...\n",
        "\n",
        "# Código que se ejecuta cuando termine de ejecutarse\n",
        "# el código dentro de alguna de las estructuras.\n",
        "```\n",
        "\n",
        "De nuevo es importante tener cuidado con la indentación del código. Tanto la sentencia **`if`** como la sentencia **`else`** deben estar en un nivel de indentación menor que sus fragmentos de código asociados\n",
        "\n"
      ]
    },
    {
      "cell_type": "code",
      "metadata": {
        "id": "jad4qdEkvJc6",
        "colab": {
          "base_uri": "https://localhost:8080/"
        },
        "outputId": "a0911769-f596-43a6-e160-ca5ed62d0c1a"
      },
      "source": [
        "'''\n",
        "if condicion :\n",
        "   bloque 1\n",
        "else:\n",
        "   bloque 2\n",
        "'''\n",
        "\n",
        "# Código que evalúa si un dato es un número entero, y si lo es, si es par o impar.\n",
        "\n",
        "x = input()\n",
        "\n",
        "if x.isdigit():\n",
        "  if int(x) % 2 == 0:\n",
        "    print(f'{x} es un número par.')\n",
        "  else:\n",
        "    # <--- La indentación del else está al mismo nivel que la del if al que corresponde.\n",
        "    print(f'{x} es un número impar.')\n",
        "else:\n",
        "  # <--- La indentación del else está al mismo nivel que la del if al que corresponde.\n",
        "  print(f'{x} NO es un número entero.')"
      ],
      "execution_count": null,
      "outputs": [
        {
          "output_type": "stream",
          "name": "stdout",
          "text": [
            "101\n",
            "101 es un número impar.\n"
          ]
        }
      ]
    },
    {
      "cell_type": "code",
      "metadata": {
        "id": "T_jKDLQPpu8V"
      },
      "source": [
        "if 15 ** 2 > 100:\n",
        "  print(\"15 al cuadrado es mayor que 100.\")\n",
        "else:\n",
        "  print(\"15 al cuadrado NO es mayor que 100.\")"
      ],
      "execution_count": null,
      "outputs": []
    },
    {
      "cell_type": "markdown",
      "metadata": {
        "id": "d6ZiZryfvHwo"
      },
      "source": [
        "### **1.1.3 Sentencia if - elseif - else**\n",
        "\n",
        " Por su parte, **`elif`** permite definir otra condición que evaluar antes de ejecutar el código, que sólo se evalúa si la primera condición no su cumple.\n",
        "\n",
        "![image.png](data:image/png;base64,iVBORw0KGgoAAAANSUhEUgAAAf8AAAJjCAIAAACN349MAAAgAElEQVR4nOzde1xUdd4H8N9cmAsww8UBBhUQkBkEW1RS8rJh6Jqmy1NttRkP1orPovmYqV2kK2Wr1palbSm72JY85La52ZqXcpWVMg0NlU2Ri4BclIsjAzPAXGCY549jE3FnmJlzzpzP+9WrFx7OnPnOHOYzv/M7v/M7PKvVSliiqM7QYrAUVnfojRaZRBAf5ukrFcSNl9JdFwAA+wjpLmBo+eVtOadvfnZeq+2w9P2tn6fg/ql+qTPHJEZ5u742AACW4jG57Z9f3vbygev5ZfrhrJyokm3/bQgOBQAAhoO56b/tWNOGT2tH+qi3HgxZPz/QGfUAALgThqb/ij3Vu7/V2PfYtNmK7GVhjq0HAMDN8OkuoB+jiX5CyO5vNSv2VDuwHgAA98O49N92rGk00U/Z/a1m27Emh9QDAOCWmNXzk1/eNvfNUkdt7cKLMTgJDADQL2a1/V8+cN2BW1v7yYhPGgMAcASD0j+/vG2YgzuHu8EyfX55mwM3CADgNhiU/jmnb7JimwAAboBB6f/3Qq3Dt/nZecdvEwDADTAl/YvqDHpjPxM5jJK2w1JUZ3D4ZgEA2I4p6d9icHz0O3vLAADsxZT0/3eJzklbLqzucNKWAQDYiynp7zw6QxfdJQAAMI77p79cyoJZrAEAXIwp6X9XtNxJW44P83TSlgEA2Isp6e8rFbBuywAA7MWU9I8bL5VJHB/TMglu/QgA0A+mpD8h5KF4P1ZsEwDADTAo/VNnjmHFNgEA3ACD0j8xyjtRJXPkBlUy3OodAKBfDEp/QsgryWMduLXtvw1x4NYAANwJs9I/Mcr7rQcdE9lvPRiC870AAANhVvoTQtbPD0ybrRjlRtJmK9bPD3RIPQAAbolx6U8IyV4WNpovgLTZiuxlYQ6sBwDA/TDrvr49bTvWtOHTEd+a8cPHJjyKcT4AAENhbvoTQorqDGs/qR3m7R4TVbLtv0VfPwDAsDA6/Sn55W05p2/+vVDb7+1fZBLBQ/F+qTPHYHAnAMDwsSD9bYrqDC0GS2F1x4GiluQ43/gwT18pJnIAALAHm9LfhpdeaM2Kp7sKAAAWY+KYHwAAcDakPwAAFyH9AQC4COkPAMBFSH8AAC5C+gMAcBHSHwCAi5D+AABcxMr0d+wtwAAAOIiV6T/Med8AAGAgrEx/AAAYJaQ/AAAXIf0BALgI6Q8AwEVIfwAALkL6AwBwESvTH+P9AQBGiZXpj/H+AACjxMr0D5IL6S4BAIDdWJn+LR3dZsut2xHbfgAAgOFjTfoXVndEPn9x3zktIWR2pFdnl/VURfukly/9o7CF7tIAANiHZ7Wypu0sX3vB3GUNlAlbDJbIAHHFDZO5y1r3+m0Kb3QEAQCMDGva/oSQtx8cTwip1Zr1RsuF2g690fJQvC+iHwDADmxK/7Q5Ck8Rz/ZPsZC/7aEQGusBAGAvNqU/IeSPvxkvFt6qGQ1/AAC7sSz9bc1/NPwBAEaDZelPfmz+o+EPADAabBrzY3PPu1f++ugEXPMFAGA3VqY/AACMEvt6fgAAYPSQ/gAAXIT0BwDgItacOG3UdR38T8v31R3fVbVfrjdOCpbcEe51e5jnkl/44vQvAMBIseOs794z2tV7q7Udlr6/8vMUvLc0bOkMP9dXBQDAXkxPf22HJW1P9f7z2sFXu2+q35//OxRXAAAADBOj07+wumPhjnJNW9dwVg6SCw/9b1R8mKezqwIAcAPMTf9TFe1J28pMXd3Df4hYyM9br5oV6eW8qgAA3ANDx/wcKGoZafQTQkxd3Unbyg4U4X4vAABDYGLb/6PTNx/78OpotvBxWgTOAwMADIJxbf/3/t00yugnhDyyu/K9fzc5pB4AALfErLb/c59f23KkwVFby1ik3HzvOEdtDQDAnTAo/Zd9UJVT0OzYbabNVmQvC3PsNgEA3AAj0t9ssT78l6ohB/Xb576pfn/7n3CRgDf0qgAAnEF/+rebuhf/6Up+md55T5Gokh1ZM1EqYtxJDgAAutCc/toOS9K2sgu1Hc5+opkRXofWRPl5Cpz9RAAArEBn+je0dt61raykweiap4tWSk5sUGNKOAAAQmP6V2rMc98srdWaXfmkIX6iE0+pIxQiVz4pAAAD0ZP+RXWG+W+XDXMCH8dSeAuPrVPFjZe6/qkBAJiDhvQ/VdG+cEe53tjPdM2uIZMI/vVkVEI4pgMCAO5ydfofLdYlv1cx0gl8HE4s5B9YHbkgRk5vGQAAdHFp+u89o31kd6XLnm5In6ZHPDAN0wEBABe5bgj87pMaRkU/IeTBrMrdJzV0VwEAQAMXpf8rB+tX5FS75rlGZEVO9SsH6+muAgDA1VzR87NiT/XubxndxMZ0QADANc5Nf7PF+thfr+496+C525xh6XT/D383AdMBAQBHODH9zRbrr9+9cvSyzknbd7gFk+RfrJmILwAA4AJnpb/OYFm4o/x0ZbszNu48MyO8vnwiSi7FdEAA4Oackv6Nuq65b5W6bAIfx4pWSr55Wq3wxnRAAODOHJ/+tc3m2W+4egIfx4pQiE9sUIX4YzogAHBbDk7/0gZj4luljToaJvBxrCC5MH+DWq2U0F0IAIBTODL9C6s77tpWRuMEPo4lkwj+vV4VH+ZJdyEAAI7nsPTPL2+7+51y2ifwcSyxkP/Vk1GJUd50FwIA4GCOSf9957QPZjFrFgcH+ufjkclxvnRXAQDgSA6Y6eGj0zfdOPoJIf/1fsVHp2/SXQUAgCONNv23Hml47MOrDimFyR778OrWIw10VwEA4DCj6vlZlVuz6+sbDqyG4VbeGbAzJZTuKgAAHMD+9Gf+3G3OgPngAMA92Nnz89zn1zgY/YSQ3d9qMr+4TncVAACjZU/6Hyhq2eKETvAktazu9V9kp/7Usj62TtW2Y2pqgv+Qj81ODTO9P+3V5LEOr6qvVw7WHyhqccETAQA4z4h7forqDAlbSmzj+pPUsj3Lw8f5elD/3H1SY/ddXKhNfXmxdZAtXMqMrW/tnP92mX1PMSKpCf47U8Kqm82xmZd6/Uos5Be+oI4NxoVgAMBWI57LLGP/tV7R32qwjH/2P44ujE7U6/KVCkoajFJRP4dHpq7uF//Z8NnKCNfXBgDgECNLf7PFmleit/3zuXuCCSFr9tb0XfNSZmxMsIQQ0m7qXpVbnVPQ/Gry2FWJAf+80JI6c4xIwDteoqea8K8mj312oVIk4Gnauvo+/FpL57IPqvJK9dmpYWlzFISQmGCJNSue/HiccWydal60rOcTUVuwrW9bMzXBf9tDIf+80PLwdH8vMb+43ti3UU/JK9VT32fH1qn6TX9CyOEfWkf01gEAMMrI+v2PXdb1nMsh2Mej1WDJK9X3Xm2dihDCSy/kpRd+V9W+5f7xSWoZIUQuFSyc7LNoe/nuk5o7wr1SE/yT1LLlsxXflLfx0gt35t+wTawfm3mJl17Y85brK3KqeemFxfXG4yV6astUB9H8t8t46YWbDtUbOn8q7NXksf81xXfZB1XUrx6e7k+dEpB68B+e7r8qt3rTofowf9FozhOYurqPFrPmxjUAAL2MrO1/9NLQeZeklkUrJV9evNU0PlXRdke411y1jBCiM1gyPqvLK9XPVcuosJ6rlomFvI9OaQghJ0r1y2crRvwK+jMr0rtJ30UdB1CbnRXpXd5oNHR278y/kVPQnJrgb/u2sB09UIZ/6uLwD60LYuTUz3PfKssv6/0tyHaJKllts1mtlKgCxVGB4tV3BdJdEQA4zMjS3+Pndz2sb+2kmvC2/hY2svscsqf4pyOnExtUDiqHWSo15pIGw5Um07XWTl56Yc/+NABgtZH1/Pzu521zqs1u69ih5JXqSxqMMyNvzYs5K9K7xWA50ad3iFLeaJR68BNVMkLIIzP8bWOHBhHsM/Q6pyraAmVCaqjoXLXMVyo4VdE25KNGasWcAIdvk2kiFKJ7Jvs8kRS4+d5x1qz405XtU1+7THdRAOAAI2v7xwRLpoR4XqjtoP6ZU9B8raVzz/Lw4+tvtXypc7nz3y67lBlLnZulTsZSvT19N5hT0JyokqXNUaTNUVRqzNdaOgcv4B/ntM8uVFJbtp037uulA9fH+njsWR6+Z3k4IWT3Sc1LB64P57oBSq9hrNas+F6nlAkhU0I8IxScu/lX9rKwvWe0U1+7fP6FSXTXAgCjMuLx/gVV7XdsLXFSNWwhFvK/fUbN2Ru/rNhTPTPCC11AAKxmzzw/e89oH9ntzlM6D+nT9IgHpvnRXQWdeOmF1BEYALCUPTM9LJ3hl7FI6fBS2CJjkZLj0U8IyVikfO/fTXRXAQD2s3OWt833jktz0OhMdkmbrdh87zi6q6CfUu5R3mSiuwoAsJ/9d3fJXha28k73H/TS08o7AzC9M2VioLgM6Q/AZqO6t9fOlNAtnGkIb7l3HG7tYhOtlJY2GOmuAgDsN9o7O25cpPzwsQkOKYXJPnxswkYOn+roK0IhCvHn3IBXAHcy4jk++3p05hgvMd+Nb+z+z8cjk+N86a6CcdxvZgsAThlt25/ywDS/E0+pxULHbI05xEL+iafUiH4AcD8Oy+vEKO/8p1QyicBRG6SdTCL49hl1YpQ33YUAADieI1vrCeFeZzOig+QO6E2iXZBceDYjmrNX8wKA23NwX41aKTmbMSnEj93nAyMU4rMZk9RKCd2FMNrLS4LpLgEA7GfPTA9DatR1zX2rtISdIwKjlZJvnlYrvN3hCAYAYCBOSX9CiM5gWbij/HRluzM27jwzI7y+fCLKdosxAAB35az0J4QYzN33vl9x9DJrbn+4YJL8izUTRT+/gw0AgFty4hhNqYj/xZqJS6cPd1Z9ei2d7o/oBwDucGLb32bFnurd32qGXo8+K+8MwCwOw7Qjr2ntJ7WEEIW38Ng6Vdx4Kd0VAYA9XJH+hJDML66/crDeBU9kh1eTx764mNPDV/qepf9qbZTthvUDPeS+nVd2poQh/QFYykUjWzJ/PTbET7Qip9o1Tzd8uE05xc9TcOHFGEQ5AHe4blxj2hyFp0jAqJuC4RZdgyuqM8x/u0zT1kUIiVZKTmxQD3QpX8+jh55rtpu6H/xz5ZGLrQTdawAM49JR7Utn+I3xjkp+r8LU1e3K5+1LLOQfWB05eOcGKOUeVzff5iXmUyH+yffNTyQF9rvmJ983z1XJLr8S23Mh9agn5wUeXjOR+vlosQ7vOQBDuPqapgUx8vynVL96p1xvtLj4qW1kEsG/noxKCPeiqwAG0nZYpmwqpn5eNNnn099HeIn5QXLhqtyaXV/foJYvjB0wuBNVsk2H6nd9faPnCYMrN0xnr7bfvb3cttrCWDnSH4AhaLiiNSHc65un1bYuBRdTeAtPPq3GLA699NvvvyOvqbrZ3LZjqpeYvyq3ZpCHx42X3ngrjmrgp+yuso0FwrggAMaiZ07muPHSAjqmAwrxExVgAp9hu1xvDPMXUT0/1c3mQdas1JgJIV5i/uE1Ex+Y5teo6ySETAwQhyvEu/JvuKhcABgJ2mbkj1CIzmRER7swiKOVkrPPTYpQsHsGOldamRiw75yWl1444bkfZkZ4rf2kdkdeU79r/vGrBl56IfUfIYTq3vES8z/9fUR1s9n2q4EeDgCu56Lx/gPRdliStpVdqO1w9hPNjPA6tCbKzxMT+AAAEEJ7+hNC2k3di/90xam3CVwwSf7545FSkbvdegwAwG70pz8hxGyxPvyXqv3ntc7Y+H1T/f72P+GYwAcAoCdGpD9l2QdVOQXNjt1m2mxF9rIwx24TAMANMKgzZM/y8IxFSgduMGOREtEPANAvBrX9Ke/9u+l//1Y7+u386eGQ1Xf1f2EqAAAwqO1PWX1X4IePTRjlRj5Oi0D0OxtjJ20FgOFgXPoTQh6dOeafj0eKhfbUJhbyv1obtXQG5m5zuswvrtNdAgDYj4npTwhJjvPNW68a6ReATCLIW6/CTDIAAENiaPoTQmZFen37zIBTCvcVJBd+87R6ViTmbgMAGBpz058QEh/mefHl2PumDt2Nc99Uv8uvTMZsYgAAw8To9CeEKLyFn62M+PCxCTJJ/5M0+HkKPnxswmcrIzCLAwDA8DFuxOdAzBbriVL9iTL9qYr2czUd00I956q8fxkl+2WUN67jpQUvvdCaFU93FQBgJxrm97ePSMBbEIN7gwAAOAbTe34AAMAZkP4AAFzEyvR/el+dzkDbbYEBANwAK9M/p+Bmh7mb7ioAAFiMlekPAACjhPQHAOAipD8AABch/QEAuAjpDwDARUh/AAAuQvoDAHAR0h8AgIuQ/gAAXIT0BwDgIqQ/jMDRYp187YWPTt+0Lfno9E352gtHi3U0VgUAdmDN3V16Uj5ddOGFGKWPB92FcJFk9XlCiEzC17R1KbyFemM3IcT43lS66wKAkUHbH0Ymc0kwIUTT1mX7P7UEANgF6Q8js3GRcsglAMB8SH8YscwlwWIhnxAiFvLR8AdgKaQ/jFjPxj4a/gAshfQHe1DNfzT8AdhLSHcBwErrFwQV1xvWLwiiuxAAsBPSH+whEvD2LA+nuwoAsB96fgAAuAjpDwDARUh/sEe7qbuwuqPd1E13IQBgJ/T7wwgcKGr521nt+dqOkgYjtSRaKZka4vnfd/jfM9mH3toAYESQ/jAsZot17d9qd319o9fykgZjSYNx79nmtUmBbzwwXiTg0VIeAIwUen5gaJUac9yrxX2jv6fteU0JW0oqNWaXVQUAo4H0hyEcvtga8/IlW1fPIC7UdkzZVHz4YqsLqgKAUUL6w2B2n9QsfveKqWu4Z3f1Rsvid6/sPqlxalUAMHpIfxhQ5hfXV+RU2/HAFTnVmV9cd3g9AOBASH/o3yPZVa8crLf74a8crH8ku8qB9QCAYyH9oTeDuXvetrK9Z5tHuZ29Z5vnbSszmHFNAAATIf3hZzRtXbPeKM0r1Ttka3ml+llvlFK3AAMARkH6w08qNeZpr12+UNvhwG1eqO2Y9tpljAQFYBqkP9xyqqL99j8U12odH9O1WvPtfygurHbklwoAjBLSHwgh5EBRS9K2Mm2HxUnb13ZYZr9RiksBAJgD6Q9kZ/6N/3q/YviD+u1j6upe/O6VnfmDXTAMAC6D9Oe6p/fVPf5xjcue7vGPa577/JrLng4ABoL05y6zxXr/rso3/9Xo4ufdcqTh/l2VZovVxc8LAD0h/TlKZ7AseKd8/3ktLc++/7x2wTvlOoOzTjMAwJCQ/lzU0NqZsLUkv8wxg/rtk1+mT9ha0tDaSWMNAFyG9Oec0gbjjC0lw5mz09lKGowztpSUMqASAA5C+nNLfnnb9C0lzhjUb59arXn6lpJTFe10FwLAOUh/Dtl3Tnv3O+V6I7N62/VGS9K2sgNFLXQXAsAtSH+u2Has6cGsSmcP6rePqav7v96vwKUAAK6E9OeEVbk1Gz6tpbuKITz+cc2TnzC9SAC3gfR3c9Sg/sFvycsc2/OacCkAgGsg/d2ZzmCZ+2YpXYP67bP/vHbum6W4FADA2ZD+bqu22ZywteR0JfuG05yubE/YWlLbzJSBSQBuCenvni7Vd0zfcpkJg/rtU9JgnL7l8qV6TAoN4CxIfzd0tFg3c2tZo47dd9Rq1HXN3FqWX95GdyEA7gnp7272ntHevZ1xg/rtozda5r5Zuu8cm85bALAF0t+tbD3S8MjuSrqrcLAHsyq3HmmguwoAd4P0dx8r9lRnuOnU+RmfX1uV67qbEABwgZDuAsABDObu32RVHnHr+ybu+vpGo74rd/kEqQhNFgAHwAeJ9bQdlllvlLp39FP2n9fOeqPUeTcfBuAUpD+7VWrMt//h8oVaroyMvFDbcfsfLldqcCkAwGgh/VmsqM6QsOVypcZEdyEuVakxJWy5XFRnoLsQAHZD+rPV0WJdwpYSTRu7B/XbR9PW9cs/lh4t1tFdCACLIf1ZqajOkPxeBTOna3YNvdGS/F4FjgAA7Ib0Z5/aZvPd28ucF/3ZqWF1r/8iSS2j/pma4N+2Y+qxdaohH5ikltW9/otLmbFOKqwXU1f33dvLcGdgAPtgxCfLtJu6F2wv7zuLQ3ZqWNocBfXztZbOZR9U5ZU65qbtOQXNOQXNPZe8mjx2VWLA+r/X9lqeV6of/+x/HPKkNpcyY2OCJYQQs8X6+pcNLx243vO3jbquRe9eOfWMGsNAAUYK6c8yWd9o+s7dlp0aljpzzKZD9b3Cke2S1LIvL+liMy8RQo6tUy2frThRqu/1rXahtuPD0zdXJQbQVCMAWyH9WearPuP6UxP8H57un3P6Zt/ofzV57LMLlSIBjxByvEQ//+0yQsilzNj61s5gH4+YYEm7qXtVbjXVhLe1sovrjX0fvvukZkVOdZJatmd5+DhfD0LInuXhe5aHU8cZ43w9dqaEeYn5PZ+IENJzfdsRybF1qmAfj/rWznnRsn5b9DZ5PbL+qsZ0R7gXtalevvhPK9IfYKRwvMwmBnN33zkvo4IkhJDrfbq/UxP8VyUGvP5lAy+9cNkHVXeEe2WnhlG/mhctO13RNm9bWYvB8ugsBSEkOzUszF+07IMqXnqhbQsvHbgufvzcvG1l11pubZzq29l0qF7T1kWtPP7Z/+SV6nMKmr2fOM9LL7R9c1DeXRpa0mDkpRfy0gtbDZZ3l4ZSy6mvGV564ZUm02+m+Q35wpPUsoWTfb6rau/V13SrqhI9bgcGMFJIfzbptFiHf7I3USUzdVlPlOoJITkFzdXN5pmR3tSvjpfoV+RU55XqW3+8hdbMSG9btp6ucMykyqkJ/oEy4akft3a6oi3MX5Sa4E8IKa43UscH9T9+aVHnlq1Z8dR/PU87UwcQJQ1G2yFFL6aubovFSgh55WA99U3zysF66lfutGTetrLn3HQeJ6AFen7YRC4VRCslvfr9yxuNhJBZPyY7S/U9t0yhov/Li60rcqoHeuyUEE/qrO/LS4JfXhLc81dusyRjkdJo7tabbn33P/f5tTvCvZLjfAmAvdD2Z5nZfVI+p6D5u6r2edEyW8cOJb9MLxby5qplhJDUBP8wf9Egjfr61s5opSRJLaP6WIYsQ+rBp3qcBpFT0Nyk77J9Lc2M9K5uNvcb8YOg+o4GiX5CyB3hXiPaJhuJBDy5VGA77bHxbuWRi7q9Z3DnA7Af0p9lfhnVTxt//ttlu09q0uYoqG6Tth1TUxP8cwqad+bfeHah0poVv2d5+HdV7YNk6ObD9YSQ4+tVR9ZGVd8cYhadlw5cr242v7g42PZcA625Zm9NtFJCVeUjFazZO7JZmqkvrXnRsp6vq+9qd0bJRrRZNyCXCnamhDa341oHsB/PamXf6TLl00UXXohR+vQz/MPtGczds94o5c60bkOaEuKJ8f4AdsBnhmWkIv6RNROD5DhhQwghQXLhkTUTuRz9ZosVU16Dfbj7sWEvpY/HV2tVYiHX951YyP9qrYqbh4A2Fos1+GkHX18NHMH1BGGpuPHSA6sjufwFIBbyD6yOjBsvpbsQmklF/Htu8ymoaqe7EGAf7sYH2y2IkRdkRCu8udgFpPAWFmREL4iR010II8wI87RdtwEwfEh/FosbLy3ImBShENNdiEtFKMQFGZPQ6rfZuEiJL0KwA9Kf3SIUou+fnzQlxJPuQlxkSojn989PilCI6C4EgPWQ/qzn5yk49Yx60TAu0WK7RZN9Tj2j9vMU0F0Is2g7LBj2A3ZA+rsDqYh/eM3EtNkKugtxorTZisPcHtw5kB15TduPN9JdBbAPPkvuI3tZ2KvJY+muwim23Dsue1nY0OsBwLBxccSIG3txcfDEAMkjuyvpLsSRPk6LWDpj6FmgOQtdYWAfpL+7WTrDb4x3lHvc810mEXzxvxMT+5vaCGyeSAqkuwRgJfT8uCHqUgC2zwYRJBee3qhC9AM4CdLfPcWNl57NmBStHGISZsaKVkrOZkyKDebKSFYA10P6u60Qf1HBxuiZEeyb+35mhFfBxugQfwzqB3AipL87k0sFJ55S3zeVTadM75vqd+IptVyKM5kAzoX0d3MiAe+zlREr7wygu5BhWXlnwGcrI0QCHt2FsMOOvCbqDsABG4qK6gx0lwMsw+4TgzBMO1NCo4IkGz6tpbuQwbz1YMj6+VwfvtKo65r7VmnPWzd/tTZqoGl8nkgKfCIpsFHXdd/OK64qENwH0p8r1s8PDPX3eDCLiZcCiIX8/0ub8MA0NvVQOY+fp+DCizGYxg6cDenPIQ9M8zvxlPrXf7qiNzJoWhiZRPDlE1GzItl3dtqViuoM898u07R1EUKilZITG9QDjejtefTQc812U/eDf648crGVELLyzoCdKaEuLB+YCP3+3JIY5X16o4o5lwKE+InOZkQj+oeklHtc3XwbdWv7cIX4k++bB1rzk++b56pk1qx4a1b85Vdie0b/k/MCqS1UN5uPFutcWD4wEVNSAFwmNtjzbMakBdvLe3Yu0yJaKfn3eq7fmrEvbYdlyqZi6udFk30+/X2El5gfJBeuyq3Z9fUNavnC2AEn9E9UyTYdqt/19Y2eJwyu3DCdvdp+9/Zy22oLY+W4KwDHIf25iLoUIPn9ivwyPV01JKpkBx6PxMjOvvrt99+R11TdbG7bMdVLzF+VWzPIw+PGS2+8FUc19lN2Vx1bp6I2pfAW2n4GIOj54Sy5VHD0ySi6LgW4b6rf0SejEP3Dd7neGOYv8hLz203d1c3mQdas1JgJIV5i/uE1Ex+Y5teo6ySETAwQhyvEu/JvuKhcYAOkP3dRlwI89asgFz9vxiIlBvWP1MrEgH3ntLz0wgnP/TAzwmvtJ7U78pr6XfOPXzVQFwHw0gsJIVT3jpeY/+nvI6qbzbZfDfRw4A6e1Wqlu4YRUz5ddOGFGPQXO8rO/BuPfzxYZ4IDvf9I6KpEdlx6BuDe0O8PZFViwDhfj4f+XOXUSaHFQv5nqyLu4cAdKAFYAT0/QAghyXG+eetVMnFjYEwAACAASURBVImzOuL9PAXfPqNG9AMwB9IfbpkV6XU2IzrEz/Eza4b4ib5/PiY+DNM1AzAI0h9+olZKzmREO/auAFNCPM+9MClCgemaAZgF6Q8/o/TxKNgYnaSWOWRrSWrZqWfUCm+cXgJgHKQ/9CaXCo6vVy2d7j/K7Syd7n98vUoqwt+YcxnM3QYz6+/hDK6HTyb07+MV4RmLlHY//OUlwR+vCHdgPTCQN442vv5VA91VAPsg/WFAm+8dl50aZscDs1PDMn891uH1AIADoUMWBpM2RxHs6/HwX6qGOSm0TCLYlx6B6cNcyc8TE2aAPXCtLwytttn82IdX80qHmBIuSS3bszx8nC/2CwALoOcHhhbiLzq+XpWdGjbQ5WAyiSA7Nez4ehWiH4At0PMDw5U2R/HwdP8jl1oPXGg5+EOrtsPi5ylYcptP8hTfRbE+XmK0JOih7bAQ9P/AyCH9YQS8xPwHpvlRN+AtqjNgsngm2JHXZLVacZodRgrtNbAToh+A1dD2B2A39PmAfdD2Bzu9crCe7hKAEEKeSAp8IimQ7iqAfZD+YKfML67TXQIA2A/pD8Bu2g4LNewHYESQ/gDstiOvafvxRrqrAPZB+gMAcBHG/ACwG8b8gH2Q/gDshgE/YB/0/AAAcBHSH4DdMOYH7IP0B2A3jPkB+yD9AQC4COkPwEo6w63eHj9Pgb+XsNdCgCFhzA8AKyW+VRauEL/5wHhqzE+lxvzUvroqjen8C5PoLg3YAekPwEq/jffL+Pza4R9a77nNhxBy+IdWU1f3lnvH0V0XsAZ6fgBYaeMipVjIN3V17z+v3X9ea+rqFgv5Gxcp6a4LWAPpD8BWmUuCxcJbH2GxkJ+5JJjeeoBdkP4AbNWrpY+GP4wI0h+AxajmPxr+YAekPwCL2dr7aPjDSGHMDwC7Zf13aJfFSncVwD6sTP9n7g6WSTCrLQAhhDw6cwzdJQArsTL918/HlLYAAKOCfn8AAC5C+gOwW2mDsbTBSHcVwD6s7PkB4DidwbL1q4ZTFe3najr0RgshRCYRTAv1nBXptfFupVyKs2IwNJ7VitECYA9eeqE1K57uKriooKr9wazKWq2539+G+In2r4qMD/N0cVXAOkxp+x8t1t29vbzXwpV3BuxMCaWlHgBm2nqkIePza4OsUKs137758lsPhmBwBAyOcW3/HXlNl+uNCH3mQ9vfxQzm7t9kVR652DrM9RdN9vlHeoRUhHN70D+m/2UU1RlmvV5ytFgXsKGIl164I6+JENKo65r1eklRnaHXz4SQo8U6XnohL70wYEORbSEA22nauma9UTr86CeEHLnYOuuNUk1bl/OqAlZjevoTQsqbTO8cb7q6+bav1kYNvubRYt07x5vadky1ZsXnpoVn7L/Wbup2TZEAzlOpMU977fKF2o6RPvBCbce01y5Xavo/QwAcx5R+/0FEBYr/+ugELzF/QYx8QYx8kDX3n285crHV+4nz1D+jlZI2U7eXmAXfcAADKazu+NU7ZdoOO2/ZWKs13/6H4n89qcJ5YOiFBek/IjhRDO7k8MXW+3dWmrpGdQir7bDMfqP0s1UR90z2cVRh4AbYmv7aDkujrrPdJP7dR1fLm0zUwvum+qbsrlqZGBA3XkpveTByNV/nflNL/SiL+mXyjNCBfksIIb5xSxb3F2U1J3N/8L31q54/s9Luk5oVOdUO2ZSpq3vxu1eyU8PS5igcskFwA6xM/yC5cFViwN3byxXewty08MwvrlPLF8TIc9PCp2wqpv4ZrZSc2KAOkrPyNXJL68XjB1uiUlLuvPXvmpO5h3Q/C+7QO1NS3CDQh++5z69tOdLg2G2uyKmu0Jg2496/QAhh4IhPYAvHjfhsPZtXoUqa1nnx26+KrhJC/OKW3DO59WyeRpU07ec5P1DTvuZk7g9+SXfdzNtPHR9QW/hxhdaLh44UtVh+XO5DrR8d59vj6ajn+fEII+yXKXN69R/2+pXtWMR2FFJzMvcHcXBwWf1lv7glk1sOflPd73aGZrZYH/vr1b1nm0f6wGFaOt3/4xXhTto4sAjaxUC7VmlgpE/NydyW0JSU2T8u9AkPrG0lZPitfKun550pv+zxlWAbHOkzefHDkwkhpOZ47g81k+eEEtJNWr5quS0lZTapOZl7obRm8oxQQmpOfsP/ZUpKaOvFQ0cutob2PMKoOflNbY8orzn5TVvckpTJPqTmZG7+mZDkGT6EdJOWG4FzUuJFXx88WPPLlJTbLh4/WFMzJ3RE8a8zWJLfr8gv04/kQSOz92xzo67z4P9OxKUAHIf0Bw6oOZn7DdWB7hvUSogP4RPfuNtCCSEkNDTsmx90rYT41FytJrXVudR6YT/75qmpqfaNWxLa85+ht/nYHl7bSnx8CJ/4hob4EJ9WPvH19SHERy4m1bqRfIM1tHbeta2sxPlTtuWV6me9UXpkzUSlj4eznwsYC+kPtPMxNFW0Tp5zt+7b3NxvyK3+kpqqJqnKIZuvOZl7QbQkJcWH1JzM/WGQFfkDnkx2hdIG46/eKR9o9h6Hu1DbMWNLyb+ejFIrJa55RmAaHPoB7Xymx4u+zz3ZMXl2SkpKSkrKnNCak7k/SOOnDZrDPr6++haqd6emZoiRMf5Kn6FX8/H11dfU9ryYtuZ47smafn4VGhrWcuufNTXVsoCQUX9hnKpon76lxGXRT6nVmqdvKTlV0e7KJwXmQNsfGMBn8ryUmq+plj8hRBb1y5TFQ3WX+0y+bXzuN7nVhBBZVNithaGhYd98czC3Jm7JPZOJbVnIN9/kVvdcbYANzpncfPBgblHfIac+kxfPas49mFt068AkdM4vr1L/JL5xSxaPMvwPFLU89OeqUQ7qt4/eaEnaVvb334cnx/m6/tmBXqwc87P3jDY5zgcX8dILs7w5xM78G49/XEN3FeT9R0JXJQbQXQW4FCsDdN2nNW2YwAfY7+l9dUyIfkLI4x/XPL2vju4qwKVYmf4AbGe2WO/fVfnmvxrpLuQnb/6r8f5dlWYL+zoDwD6sTH8L2v3AZjqDZcE75fvPa+kupLf957UL3inXGeycUQ7YhZXpD8Betc3mhK0lTr2eazTyy/QJW0saWjvpLgScDukP4DqX6jumb7nsguu5RqOkwThjS8ml+hHfTgDYha3pL2Br4cBd+eVtM7eWNepYcLOtWq155tay/PI2ugsBJ0KIArjCvnPauW+W6o2s6VLXGy1z3yzdd45xJyfAUZD+AE639UjDg1mVdFdhjwezKrcda6K7CnAKpD+Ac63Krcn4/BrdVdhvw6e1q3IZcVECOBYr03/6BC+6SwAYmsHcff+uyl1f36C7kNHa9fUNXArgfliZ/t9V4mQUMJ22wzLrjVIGDuq3z/7z2rlvluJSAHfCyvQHYLhKjfn2P1y+UOtWgyZPV7YnbC2pbXbpRKTgPEh/AAcrqjMkbLlcqTHRXYjjlTQYp2+5jEsB3APSH8CRjhbrEraUaNpYMKjfPo26rplby44W6+guBEYL6Q/gMHvPaO/eXk7LTP2upDda7t5evveMm5zS4CykP4BjbDpU/8huVg7qt88juyu3HmmguwqwH1vTX8Dn0V0CwE9W7Kl+6cB1uqtwtYzPr63YM8RdNYGx2Jr+AAxhtljveffK7m81dBdCj93fau559wouBWAjpD/AqDz8l6ojF1uHXs99HbnY+vBfquiuAkYM6Q9gv+c+v+a867myU8PqXv9FklpG/TM1wb9tx9Rj61RDPjBJLat7/ReXMmOdVFhf+89rM7/gXMcX2wnpLgCArfae0W7pc9ozOzUsbY6C+vlaS+eyD6rySh1zI5ecguacguaeS15NHrsqMWD932t7Lc8r1Y9/9j8OedLhe+Vg/eRx0gem+bn4ecFuSH8AO6Xn9j7hmZ0aljpzzKZD9Rw8A0wIWZVbg/RnEaQ/gD1OVbT3mqw/NcH/4en+Oadv9o3+V5PHPrtQKRLwCCHHS/Tz3y4jhFzKjK1v7Qz28YgJlrSbulflVlNN+EuZsTHBEkJIcb2x78N3n9SsyKlOUsv2LA8f5+tBCNmzPHzP8nDqOGOcr8fOlDAvMb/nExFCeq5vOyI5tk4V7ONR39o5L1pmtlhf/7JhoC+t1AT/bQ+F/PNCy8PT/b3E/OJ6Y2zmpb6radq6Cqs74sM87X1TwaXQ7w9gj4M/tPRaEhUkIYRc73NH3NQE/1WJAa9/2cBLL1z2QdUd4V7ZqWHUr+ZFy05XtM3bVtZisDw6S0EIyU4NC/MXLfugipdeaNvCSweuix8/N29b2bWWWxun+nY2HarXtHVRK49/9j95pfqcgmbvJ87z0gtt3xyUd5eGljQYeemFvPTCVoPl3aWh1HLqa4aXXnilyfSbQZvtUg/+w9P9V+VWbzpUH+YvejV57ABvC6dPgLML2v4A9ujsGu4Yx0SVzNRlPVGqJ4TkFDRvXBQ8M9Kb+tXxEv2KnGpCSOuPc2fOjPT+rqqdOgg4XdG2cLLP6EtNTfAPlAn/8eNduk5XtD083T81wZ8QUlxvpI4PqKMQamXb0QP58UCBEGLo7N6ZfyOnoDk1wd/QOeDFzD2vc37lYL3bnApOVMlqm81qpUQVKI4KFK++K5DuihwA6Q9gj4SI3jeZKG80EkJm/ZjsLNX33DIhhPqqGI47wn96W15eEvzykmCHVUa3So25pMFwpcl0rbWTl17Y8/Q+S6HnB8Aec1WyXktyCpq/q2qfFy2zdexQ8sv0YiFvrlpGCElN8A/zF52uGPAGFfWtndFKSZJalqSWDafhL/XgUz1Og8gpaG7Sd9m+lmZGelc3m/tGvEOw/ctvEBEK0T2TfZ5ICtx87zhrVvzpyvapr12mu6hRQfoD2EPhLQzxE/VaOP/tst0nNWlzFNaseGtWfNuOqakJ/jkFzTvzbzy7UGnNit+zPPy7qnaqt6dfmw/XE0KOr1cdWRtVfXOImfRfOnC9utn84uJg23MNtOaavTXRSglVlY9UsGavU+7UGKEQK7y50p2QvSzsmQVKVn8B8KxW9l2i7b/uQsUfbvPzFNBdCKfx0gutWfF0V0Gnfee0LL1Xu5N8mh7BtRGfK/ZUz4zwYmkXENr+YCd36tK1zwPT/PAm2LyaPJZr0U8IyV4WNsiRHMOxMv3dffp0dsj8df9j/jgl89dj75vKucjr676pfi8u5ugXYcYi5Xv/bqK7CnuwMv0BmCN3+YRFjhiXyV6LJvt8tjKC7ipoo5R7lDex8i6eSH+AUZGK+IfXTEybzcqe39FLm604vGYi3VXQaWKguAzpD8BZ2cvCONgV9mry2OxlYUOv59aildLSBuPQ6zEP0h/AMV5eEvxxGoc6QD5Oi+BsX39PEQpRiH/vsb+swJXBuTAcR4t1d28v77Vw5Z0BO1NCaamHdZbO8BvjHZX8XoV739hdLOQfWB25IEZOdyFMkV/mmEm8XYyt6S/AbX2dYEGMnBrCvyOv6XK9EaFvhwUx8oKM6Plvl2nauuiuxSkU3sJj61Rx46V0FwKjhZ4fGFpRnWHW6yVHi3UBG4p46YU78poIIY26rlmvlxTVGXr9TAg5WqyjppMM2FBkW8gdceOlBRmTIhRiugtxvAiFuCBjEqLfPSD9YVjKm0zvHG+6uvm2r9ZGDb7m0WLdO8eb2nZMtWbF56aFZ+y/1m5y526QfkUoRN8/P2lKiFvNdD8zwuv75ydFKFjZxw19sbXnB1wsKlD810cneIn5C2Lkg3f47j/fcuRiq/cT56l/RislbaZu24zB3OHnKTj1jPo3WZXucc/3+6b6/e1/wkXocnUjSH9wPJwoplCXAqzKrdn19Q26axkV7FC3xLkWGTiQtsPSqOtsN3X/7qOrtssd75vqu++cloPd/QPZmRK65d5xdFdhv7ceDEH0uyW0/cFOQXLhqsSAu7eXK7yFuWnhtrs4LYiR56aFT9lUTP0zWik5sUEdJOf0X9rGRcqJQWI2TgjKwWk7uYOVMzzL116o23qbXIoZnoFN8svbfv2nK73uBc9YMongi/+dmBjltndrcSCWznaOnh8AF0mM8j69UcWKw6AgufD0RhWi370h/QFcJzbY82zGpGjlEPdipFe0UnI2Y1JssFsNV4W+kP4ALhXiLyrYGD2zz03hGSJRJSvYGM3SiWtgRJD+AK4mlwpOPKVm4G1h7pvqd/TJKJxR4wikPwANRALeZysjVt4ZQHchP3nqV0GfrYzA9VzcgfQHO71ysJ7uElhvZ0roWw+G0F0FIYS8/0joHx8YT3cV4FJIf7CTbYA/jMb6+YH/fDxSLKTtkygW8v/5eOSqRAYdhYBrIP0BaJYc55u3XiWT0NDbLpMI8tarkuN8Xf/UQDukPwD9ZkV6nc2IDvFz6UibED/R2YzoWZEMHX0Ezob0B2AEtVJyJiPaZZcCTAnxPJMRrWb2lQfgVEh/AKZQ+ngUbIxOVMmc/URJatmpZ9RKHw9nPxEwGdIfgEHkUsHRJ6OceinA0un+x9erpCJ89rkOfwEAzEJdCpCxSOmMjWcsUn68ItwZWwbWYWv6C/i4JgXc2eZ7x73/iINn1c9ODdvM5jsNgGOxNf0B3N6qxABHXQogFvIPrZmYNkcx+k2B20D6AzBXcpzvt8+o/TxHdSmAn6fg22fU90z2cVRV4B6Q/gCMFh/m+f3zMXZfChDiJ/r++Zj4MEzXDL0h/QGYLkIhOvfCpCkhI07wKSGe516YFKHAdM3QD6Q/AAsovIUnn1YvGknvzX1T/U49o1Z4s+BWYkALVqa/uYt99yIGGCUvMf/wmonZqWFDzggkkwiyU8M+WxmBQf0wCPxxALBJ2hzFpZdjktQDXg+cpJZdfiUWw3tgSDgqBGCZEH/R8fWqojrDgaKWz863XKjtIITMjPBaNNknOc43bryU7gKBHZD+AKwUN14aN1764uLgay2dYiEP/fswUviLAWC3cb6YrA3sgX5/AAAuQvoDsFt+eVt+eRvdVXDay0uC6S7BHmzt+cEkbwCUE6V6q9WaGOVNdyHclfnrsXSXYA+0/QEAuAjpDwDARUh/AAAuYmu/PwAA7XbkNa39pJYQovAWHlunYteldkh/AICfNOq65r5VWtJgtC35am3Ughh5vys/kRT4RFJgo67rvp1XXFWgwyD9AQB+xs9TcOHFGHY15O2A9AcAGFpRnWH+22Wati5CSLRScmKDOkjef372PHrouWa7qfvBP1ceudhKCFl5Z8DOFAfft3mkkP4AAENTyj2ubr7NS8ynQvyT75ufSArsd81Pvm+eq5JdfiW250LqUU/OCzy8ZiL189Fi3UAdSq6B9AcA+Blth2XKpmLq50WTfT79fYSXmB8kF67Krdn19Q1q+cLYAYM7USXbdKh+19c3ep4wuHLDdPZq+93by22rLYyVI/0BABik337/HXlN1c3mth1TvcT8Vbk1gzw8brz0xltxVAM/ZXeVbSwQ08YFYbw/AMDQLtcbw/xFVM9PdbN5kDUrNWby473YHpjm16jrJIRMDBCHK8S78m+4qNxhQPoDAAxtZWLAvnNaXnrhhOd+mBnhtfaT2h15Tf2u+cevGnjphdR/hBCqe8dLzP/09xHVzWbbrwZ6uMvwrFb23SNXsvq89u043LOUXrz0QmtWPN1VAHnlYL3VamXpRGNAIwQoAAAXIf0BALgI6Q8AwEVIfwAALkL6AwBwEdIfAGBUXjlYT3cJ9mBr+gsEuLEvADBC5hfX6S7BHmxNfwAAGA2kPwAAF2GWNwB2m6uW0V0CsBLSH4DdEqO86S4BWAk9PwAAXIT0BwDgIqQ/AAAXIf0BALgIZ30BmOhosa7nPWApK+8M2JkSSks94H6Q/gBMtCBGTt08Z0de0+V6I0IfHA49PwBsUlRnmPV6ydFiXcCGItvdARt1XbNeLymqM/T6mRBytFhH3UcwYEORbSEAQdsfgHXKm0zvHG+6uvm2byvaShqMg6x5tFj3zvGmth1TvcT8o8W6jP3XPv19hJcYbT4gBOkPwDpRgeK/PjrBS8xfECOn7hg+kP3nW45cbPV+4jz1z2ilpM3UjfQHCivT39TVTXcJAOyAE8UwELQCANyBtsPSqOtsN3X/7qOr5U0mauF9U333ndOiux/6xcq2PwD0FCQXrkoMuHt7ucJbmJsWbptufkGMPDctfMqmYuqf0UrJiQ3qIDk+9UAIITyr1Up3DSPGSy80vT9NhBu80IqXXkgNSQTgOJZ+FtDzAwDARUh/AAAuQvoDAHAR0h8AgIuQ/gAAXIT0B2C9TYfq6S4B2AfpD8B6f/lGQ3cJwD5IfwDWq9Wa6S4B2AfpDwDARWxNf1zoCwAwGmxNfwCwSVTJ6C4B2AfpD8B6+WV6uksA9kH6AwBwEdIfAICLkP4AAFyE9AcA4CKkPwAAFyH9AQC4COkPAMBFSH8AAC5C+gMAcBHSHwCAi5D+AABchPQHAOAipD8AABch/QEAuAjpDwDARUh/AAAuQvoDAHAR0h8AgIuQ/gAAXIT0B2Clo8U6+doLH52+aVvy0emb8rUXjhbraKwKWERIdwEAYI8FMXJzlzX9/2qe2ldHCAnYUKQ3dlPL6S4N2IE1bX+0dJgAe4FRMpcEE0I0bV22/1NLwAXc4LPAs1qtdNcwXJLV5wkhMglf09al8BZSLR3je1PprotbsBcYRbL6vKmrm/pZLORjR7gS2z8LrGn7E7R0mAF7gVEylwSLhXxCiFjIx45wMbZ/FtjU9ido6TAD9gKjULsDO4IWrP4ssKntT9DSYQbsBUahdgd2BC1Y/VlgWdufoKXDDNgLzGG2WFd8dDX70QkiAY/uWriIvZ8FlrX9CVo6zIC9wBwiAW/P8nBEP13Y+1lgX9sfLR0mwF4AoLD3s9A7/XUGy/k6Q/F1Q6Ouk66a2C5I7hEzVjp1vFQuFdi3BeyF0Rv9XqCUNhh/uG64XG+0dLOsncQQAj5vUrDktrFStVJix8PxWRi9gT4LP13ra7ZYn9lXtz2vyeW1ua2nfhX0h/vGjahFgL3gcHbsBUphdcdDf66s1JicURUHRSjEf/99RHyY5zDXx2fB4Xp9Fm61/YvrjSm7qy7UdtBamxuaEuL5j5WREQrRcFbGXnCSEe0FytYjDZkH622D+cAhxEL+5vvGrZ8fOOSa+Cw4Sc/PAs9qtZot1oQtJXijnWRKiOf5FyYNuRr2glMNcy9Q9p7RPrK70qn1cNk/H49MjvMdZAV8FpzK9lngE0I2H67HG+08F2o7th5pGHI17AWnGuZeIIRoOyyr91Y7ux4u+/3/VWs7LIOsgM+CU9k+C3xCyA70rDnZW8cah1wHe8HZhrMXCCF/PXVz8GyCUWrUdf311M1BVsBnwdmozwK/qM6Av3Vn07R1lTYYB1kBe8EFhtwLlJNX2lxQDMd9f7V9oF/hs+AC1GeBf6oCf+uu8F3VgH/uhBDsBdcYfC9QTlXoXVAJxw3yFYvPgmt8V9XOxyha16gadOAg9oJrDL4XKI26LhdUwnG1WvNAv8JnwTWqNCb2zfQAAACjh/QHAOAipD8AABch/QEAuAjpDwDARUh/AAAuQvoDAHAR0h8AgIuQ/gAAXIT0BwDgIqQ/AAAXCYdepYcktWzP8vBWgyU285JtYWqC/86UMC8xnxByraVz2QdVeaWYJ8sper7VxfXGnnuBEHJsneqOcK9VudU5Bc3UEmp/jfP1IIS0m7p7/gpGCfuCXoO//zAcI0v/vFL9+Gf/02vho7MU1c1mu9/91AT/bQ+F7My/8dKB60OufGydKtjHwzV72pXPNUw5Bc1UZFC19frt/LfLei15ZIY/IWTetjK7v48vZcbWt3b23XJfrny7Xk0euyoxYP3fa2kMUOwLCl37YvD33xnc7/13QM9PsI9HfSum5WOiCQpxq8GCQzEmwL4Aphlu27/ncdbxEj31BXhsnWpetIwQEhMssWbF9/xVvy5lxsYES6ifd5/UrMipti15cXHwi4uDbUfEryaPfXahkrr3PLUwKkhiW9LruXqubNtsS4fl9gmeV5pM9a2d86Jl1PKeNdg6qaiv9GAfj5hgyZDP1fcljPQdH76efQWDH9v2fVHZqWFpcxTUb6mXMPgWbLuS/PhibVuw7Vzq9fb8SzBbrK9/2UAIGejt6vsSjq1T+UoF0UpJi8HydVnb0hl+tpVtz0ht9qUD16k2FLUHqYUnSvW2De5ZHr5nebjtJfd9CaN583vBvqB3Xwz//e+ZBj07ovumBN7/4aa/7TjrUmasbaEtEIdzQPRq8thAmXDZB1U9j1BiMy/12/NT3mhctL08r1RPvWWPzlLMf7vM9hb03PfUgc+Kj65S3xmrEgPyy/SEkLAxomf21f3h3nH1rZ3HS/QTFGJbqdTDL2XGPndPMPWXQX09rNlbM+Rz9X0JTkK98C8vtq7IqaZ+zk4NG+hPlioyOzVs4WQfasmKnOoVOdXDPAJNTfCPGy/ddKi+5y6gttB3515r6bT1WV/KjP3NNL/YzEv9vl39vgRCSLRS8vzn156+WxkXIt19UjMz0ttWPNUxkp0atny24kSpnhASEyypb+3kpRdSz/XSgevjn/1P36Pdfl+Co2Bf0LsvRvT+/2aa3zflbb3iqN+U6PdTzKn333Vjfk6U6k1d1j3Lw3t+fwwkp6D53aWh1qz44+tV1JfbQGZFeiu8hXuWh1uz4l9cHCyXCqKCJISQLy+2Nrd3tRgsH53SUGumJviH+YvmRcusWfHWrPiYYImtu/B4iX5FTnVeqb7VMNgt5Ub0EkZprloWIBOmzVHY3gTqC8wZcgqam/RdLy4Ornv9F0lq2eAr55XqH52lsL2Hg6w50Ev4rqr9h2sGU5f1H+e0tpVnRnqP8/U4vl5lzYpPm6PwlQpsrSTq8zZ47+KIXsJIYV/Quy9G9P6frmibFy0zvT/t1eSxtoUDpcQoi2f7+z+ys76jYTtjfGydypoVP/jx4LF1ELHUkgAAEVVJREFUKh+pgPr2GzJq+w40+s00v4FWHk13zYhewuh1dt066HPeU9jYWqzH16sGP7LOTg27I9yLOgAa8oRb35dwbJ1qoJX7Pu+jsxTOeAl2wL6gd18M//2n2ulUn8z6+UG2tvnwhyNy5/13Xds/NcGf+iKa/3bZ7pOanu+U1IM/9udvXLCPB3WKLEkt85EKev7KRyro+YV2qqItQCakBlQMLqegubrZvHCyz/DbI72ea5CX4HAnSvUtBssgX2MOZHtdK3KqNx2ql3jwe77qXi9zgkLcYrBca+ns+6teb9eIXsLpiraJgeKe7bXBST34PZtvg7+EUcK+GJyz98Xwi09Sy1IT/AkhOQXNye9dadR3UYUNPyU49f67ru2fqJLZzn1RJ1epn3MKmh+dpUibo0ibo7Cd4vjHOe2zC5XWrHizxfr91Y550bJj61Tz3y776JRmZ0rY8fUq8uPXI/Vd+uxCZc+TJAPVEJt56VJmLPVwMtTpo77PNdBLcIa8Uv2yD6qoY1VqifMONaKCJNmPTqBOVVFvoK2JZNsRtgJ6vi2nKtpvn+B5KTM2NvNS37er35cwUA3UARl18p8M9fa+dOD6b6b59RwpMMhLGD3sC3r3xYje/y33j9+zPNy2GpUP/aZEv0cSnHr/eS8fuPbKwfqBNg2O8vKS4MxfD/hlnvnFdewFFxh8L1B46YWuKYbjbDnYCz4LrvHykmDM9AAAwEVIfwAALkL6AwBwEdIfAICLkP4AAFyE9AcA4CKkPwAAFyH9AQC4COkPAMBFSH8AAC5C+gMAcBHSHwCAi5D+AABcxA+SO3GSerAZ/H3GXnCN4bzPQXLXTXvOWYO8yfgsuEaQ3IM/LdST7jI4YfD3GXvBNYbzPseNw75wukHeZHwWXGNaqCf/F+OkdJfBCYO/z9gLrjGc9zl+AtLH6QZ5k/FZcI1fjJPypSL+2qRAuitxc2uTAqWiwU6xYC+4wJB7gbJiToCfp2DI1cBuMolgxZyAgX6Lz4ILUJ8FPiHkjQfGRysHuyE9jEa0UvLGA+OHXA17wamGuRcIIREK0XtLw5xdD5dlpYRFKESDrIDPglPZPgt8QohIwNu3MlwsxPgfxxML+ftWhlP32Bwc9oLzDH8vUJbO8EubrXBqSZyVNluxdMYQNzfHZ8F5en4WeFarlVpqtlif33/tzX810lqbW1mbFPjGA+OHHzoEe8EJ7NgLlMLqjof+XFmpMTmjKg6KUIj//vuI+LDhnlbBZ8Hhen0Wfkp/is5gOV9nKL5uaNR10lHesJwoa5ur8qa7igEFyT1ixkqnjpfKpXZ2H2MvjN7o9wKltMH4w3XD5Xqjpds69Np0qNN2mru6IwLEdBfSPwGfNylYcttYqdquzhx8FkZvoM9C7/RnBV56oTUrnu4quA57gSFeOVhvtVozfz2W7kK4i6WfBfSsAQBwEdIfAICLkP4AAFyE9AcA4CKkPwAAFyH9AQC4COkPAMBFSH8AAC5C+gMAcBHSHwCAi5D+AABchPQHAOAipD8AABcJ6S4A2CpRJaO7BCCEEJkE96EEe6DtD3aqbTZXasx0VwHk+6vtwXIPuqsA9kH6g53USklJg4HuKoBcvWmKCBjsNrkA/UL6g51UgeIrTbjrIf1KGoyqINwDHUYM6Q92igoUNzD4ZnscoTNYguQefp7o+ocRQ/qDnVbfFbjlSAPdVXDd28ebfnu7H91VACsh/cF+2alhK/ZU010FdzW0du7Mb8IdfcE+SH+wX9ocRWFNx94zWroL4aj7d1X8+b/D6K4C2ArpD6Ny/oVJbxxtwBGAix0oalE+XbTl/vHJcb501wJshau9YLTOvzBp90kNL70wY5FSKfeYGCiOVkojFBiD6EjaDktZo7Hyhrmsyaht7yprMl14IUbpg2H+YD+kPzhA2hxF2hzFe/9uKm8yfXlJV9pgnDBGlFeqp7sukqiS1TabJ4wRhSvEMWOlv5s1ZpDhMdoOy19P3Sy+bqjSmK7eNIf4i/LL6H8JFD9PQbRSMmGMWBUkXhArf+e3PnRXBKyH9AeHWX1XIN0l9KNSY67SmK5qTNdbOyOf/2FlYsDme8f1Xe25z6/tyr+xbn7QzAivpTP8wxViHL6Ae0P6g5uLUIgiFCJCZISQFxcHbzpUL1l9/ua2OC/xrZNe7abuMeuLnr9H2fz2FForBXAppD9wy4uLgx+bOSZk439sWR+y8T/lm2JD/NHSB27BmB/gnBB/0abksatyawghq3JrNiWPRfQDByH9gYtW3xXYarC89++mVoOFmacrAJwN6Q8cpQoSf3a+RRUkprsQAHog/YGj1EHS8iaTOkhKdyEA9ED6A0epgsRN+i60/YGzkP7AUTHBEtv/ATgI6Q8cJRXxTV3dUhE+AsBR+NMHAOAipD8AABch/QEAuAjpDwDARUh/AAAuQvoDAHAR0h+4ZeuRBl56Yc9bUa7YU81LL9x6pIHGqgBcj2e1WumuYcR46YXWrHi6qwC24qUX9l2IvyiwG0sTCW1/4JwFk+RDLgFwe0h/4JyvnowacgmA20P6Axf1bOyj4Q/chPQHLurZ2EfDH7gJ6Q8cRTX50fAHzkL6A0d9/nhkhEL82apIugsBoIeQ7gIAnK7d1N1isLQaLHqjpdVg0RktrR2WVmP3spljsr7R+Ej4Pp4CuUTgIxXIJAIfqcBXKvASo2EEbg7pD26oUmMuqGw/V9N+trrjXE2H3mgZ6RZkEsH0MM+ECK9poZ4JE7xC/EXOqBOARkh/cAdmi/XYZd2ZqvYzVzvOXm3XtHWNcoN6oyWvVJ9Xqqf+qfAWTp/gNWOC54xwr/mT5CIBb9QlA9AM6Q/sdrRY9/fvtX8v1NrRwB8+TVvXkYutRy62EkJkEsFD8X4P3e63IAZnjIHFkP7ASoXVHTnf3fzb982NutE280dKb7Ts/laz+1tNkFz48O3+qXeMiQ/zdHENAKOH9Ac2qdSYcwtufnymuaTBSHctpFHXtT2vaXteU7RS8sgM/5SEMREKnB4A1kD6Azs06rqe3lebU9BMdyH9KGkwvnTg+ksHrqfNVrz2X2OVPh50VwQwNAxrA6YzW6zbjjVFvXiRmdHf0+5vNaqXLm071kR3IQBDQ/oDo+WXt8W9Wrzh01qnntR1IL3RsuHT2qmvXT5V0U53LQCDQfoDQ11r6bx/V+XcN0uZ0MU/UhdqO2a/UbJiT3VDayfdtQD0D+kPTNTQ2vlgVsX+81q6CxmV3d9q7t9VgS8AYCakPzBOQVX7lNeKT1e6Q8/J6cr2Ka8VF9UZ6C4EoDekPzDL3jPaxDfLXD+K33kadV0JW0r2nmH3cQy4H6Q/MMjT++oe2V1p6uqmuxAHM3V1P7K78ul9dXQXAvATpD8wxZOf1L75r0a6q3CiN//V+OQntXRXAXAL0h8YYe8Z7fY89x8mvz2vCV1AwBBIf6BfaYPxdx9dpbsKF/ndR1eL69k3hhXcD9IfaKYzWO7dWeF+ff0DMXV1/2ZXhbaDHRevgRtD+gPNHs6uYuP1XKNR0mBM21NNdxXAdUh/oNOBohZq0nyu2X9ee7RYR3cVwGmsTP9ElYzuEsAxtn7ZQHcJtNl8hLuv3c2wNJFYmf61zeZKjZnuKmC0Cqra3eOCXvvkl+kLqrj78t1GpcZc28zKOGJl+quVkpIGXDrPeq9/5c6j+4dj+3H3H+Tq9koaDGqlhO4q7MHK9FcFiq80meiuAkaltMHI9kncRm/v2eZSjp3xdj9XmkyqQDHdVdiDlekfFShu0GHeRHZ7B81eQgjeB/Zr0HVGIf1dZvVdgVtwxozlDv3A3KE+2alhda//IkntilN5TH4fYDi2HGlYfVcg3VXYg5XpTwjJTg1bgRHTjDfQoEazxVqrdcWJskuZsdaseNt/x9apXPCkI1KrNZst1n5/hSGhzLdiT3V2ahjdVdiJrXd1T5uj+NOJG3vPaJfO8KO7FhjQA1mV5i5r5pLgjYuUPZfXaV3XcXe8RD//7TKXPZ0d6rSdEQpRzyWbDtX/4XCDSMjTbZ9CV1UwpL1ntIU1HdnLkP4ud/6FSVNfu3y8RMfed9/tvftwSPr/1WQerM88WN/zO8A1Df+BXMqMrW/tDPbxiAmWtJu6V+VWU/eLv5QZGxMsIYS4eB6eWq3Zlv5U7lM/Z6XgD5u5VuypLqzpOP/CJLoLsR9be34o51+YNDPCi5de+Nzn13bkNR2+2IrrABjl0ZljZBK+qavb1NWdebBesvr81iMNZov1qobmIVvzomWnK9rmbStrMVgenaUghGSnhoX5i5Z9UMVLL3RxMVc1JrPFuulQvWT1+T8cbqDeLpmEj+NaRqnUmA9fbN2R1/Tc59d46YUzI7xYHf2E1W1/StocRdocxXv/bipvMn15SVfaYJwwRpRXqqe7LuiNmsct82B9cb0hIsB1YyTmRcusWfGEkGstncs+qKL+No6X6FfkVBNCWg23ZlubGen9XVU7dRBwuqJt4WQfl1VYpTE99tern51v6TnVnaaty/XfQzCQJLXs6k2zWilRBYqjAsXUXxTbsT79KSw9584FARuKNG1dhBCxkE8IyVwSvH5B0N4zzS4rgPn9/uog6XP3BE8KbqD6fKjvAIW38MZbcXSXBu6M3T0/wHAfnb6pN3aLhXyxkJ+5JNj43tSNi5QiAS+aeddG1rd2RislSWpZklrmyoY/ISRmrEQk4L24ONj43tTn71FSb5fe2I37wIBTIf3Bidb8rZYQYst923JVkOvSn+r5of67lBk70GqbD9cTQo6vVx1ZG1V906Vnj0L9fxrwY/sOIISk52JMMzgRz2rtf6wxwOgdLdYtiJH3+yv52gt6I+5wQoLkwoY/9t/DM8i7BzB6aPuDEw0SXpPHMq7zhxbRSulAv0L0g1Mh/YEeyb/wpbsERliIiAeaIP2BHumJAdQoIC4TC/npiQF0VwEcxfWPH9DFz1Pwu1lj6K6CZr+bNcbPU0B3FcBRSH+gzZokrl+lgXcAaIT0B9rEBEsWTOJur/eCSXJqWiEAWiD9gU4bFgTRXQJtuPzagQmQ/kCnBTHypdP96a6CBvdN9cOATqAX0h9otntZGAMnfnCqaKUkd/kEuqsArkP6A82kIv7nqyJlEq4MfZFJBJ+vipSK8NEDmuFPEOinVkr+9j/hdFfhIn/7n3A1x451gJn+v737eWkyDOAATj213r2vr6/LN1ja5hrEDIJgaxYiHYSCJIawww4KSYV4ibrVJQIvQqc6hEIQlB30UFCHArvVwV9NCiQSZW4TQ3Bje7e9796Wj3YMJEmW83nel+/nD3j5nr7wvg/v90H7Axe6zihD3c2sU9TcUHdz1/4OiALsBO0PvLh3xT0YaWKdooYGI03b7jcGYAgbn8CXt1/zvc+SNpv/lAXy8rovchbTRsARtD9wZ2HNvPRoke3N73vI43J8uHMK3/qBN2h/4FGmtBF5sjSZ0FkH+V+dAXm836/W2eQKVbATtD9wqkK3bo+tjHxcZx2kegMXjw33eFmnAPg7tD9wLZ4ybo2lLfcS0BmQH0ZPhFpE1kEAdoT2BwuY+Fa4+3r1y4rBOsi/tbqFxzEPVhyAf2h/sIznk9n7b35wexrscTkeXD1+o0NlHQRgV9D+YCUVuvUqnh+dzr6f11hn+ePy6fq+djUaanCQA6yzAOwW2h8saTX/a/xz7umn9e9rJqsMrW7h2oXGvvZGt3KYVQaAqqH9wdriKWN0KvtiKpsz9ukHMZdIYueO3uxQcagLlob2B5t4N6/NLOszSWM2qWdKG3v7cLXuUNgntfnEtpMShnrAHtD+YEOJTGU6oc+l9dmUMZc2qtiNkAUSbhGDXvG8Xwp6Jb/qqEVOAIbQ/mB/+s/NfJlqZVo0qVamBZNqBtXMzaJJZYEowkFFJPUCUZxEFojiJA1OIh3BACLY3G9l6SpI0VCB0QAAAABJRU5ErkJggg==)"
      ]
    },
    {
      "cell_type": "markdown",
      "source": [
        "```python\n",
        "if CONDICIÓN_1:\n",
        "  # Código que se ejecuta si la condición es VERDADERA.\n",
        "  # ...\n",
        "elif CONDICIÓN_2:\n",
        "  # Código que se ejecuta si la condición 1 es FALSA\n",
        "  # y la condición 2 es VERDADERA.\n",
        "  # ...\n",
        "elif CONDICIÓN_3:\n",
        "  # Código que se ejecuta si la condición 1 y 2 son FALSAS\n",
        "  # y la condición 3 es VERDADERA.\n",
        "  # ...\n",
        "# ...\n",
        "else:\n",
        "  # Código que se ejecuta si todas las condiciones\n",
        "  # anteriores son FALSAS.\n",
        "  # ...\n",
        "\n",
        "# Código que se ejecuta cuando termine de ejecutarse\n",
        "# el código dentro de alguna de las estructuras.\n",
        "```\n",
        "\n",
        "Esta sintaxis reduce los niveles de indentación y permite crear código claro y expresivo, con el mismo resultado. Veamos el equivalente con la sentencia **`elif`** del ejemplo de los sistemas operativos."
      ],
      "metadata": {
        "id": "0UU-P9BTlqWY"
      }
    },
    {
      "cell_type": "code",
      "metadata": {
        "id": "MsOcspLdivBE"
      },
      "source": [
        "'''\n",
        "if condicion1 :\n",
        "   bloque 1\n",
        "elif condicion2:\n",
        "   bloque 2\n",
        "else:\n",
        "   bloque 3\n",
        "'''\n",
        "\n",
        "# Código para evaluar si un dato es un número entero, y si lo es, evaluar si es divisible por 2, 3, 5 o por ninguno.\n",
        "\n",
        "x = input()\n",
        "if x.isdigit():\n",
        "  if int(x) % 2 == 0:\n",
        "    print(f'{x}  es divisible por 2.')\n",
        "  elif int(x) % 3 == 0:\n",
        "    # <--- La indentación del elif también está al mismo nivel del if original.\n",
        "    print(f'{x} es divisible por 3.')\n",
        "  elif int(x) % 5 == 0:\n",
        "    # <--- En cada uno de los elif declarados.\n",
        "    print(f'{x} es divisible por 5.')\n",
        "  else:\n",
        "    # <--- El else también está igualmente indentado, y debe ser el último bloque.\n",
        "    print(f'{x} NO es divisible por 2, 3 o 5.')\n",
        "else:\n",
        "  print(f'{x} NO es un número entero.')"
      ],
      "execution_count": null,
      "outputs": []
    },
    {
      "cell_type": "markdown",
      "metadata": {
        "id": "jCQMIAaYvuYQ"
      },
      "source": [
        "Finalmente, existe una versión simplificada para la asignación de valores a variables dependiendo de una condición lógica. Esto se conoce como **operador ternario** y se puede declarar en una sola línea de código."
      ]
    },
    {
      "cell_type": "code",
      "metadata": {
        "id": "CDH3dJwywh4W",
        "colab": {
          "base_uri": "https://localhost:8080/"
        },
        "outputId": "cee70e70-e550-4041-90a2-2c5d7363831b"
      },
      "source": [
        "# Asignación condicional usando if else\n",
        "condición = True\n",
        "\n",
        "if condición:\n",
        "  a = 'Sí'\n",
        "else:\n",
        "  a = 'No'\n",
        "print(a)\n",
        "\n",
        "#Asignación condicional con operador ternario\n",
        "\n",
        "condición = False\n",
        "a = 'Sí' if condición else 'No'\n",
        "print(a)"
      ],
      "execution_count": null,
      "outputs": [
        {
          "output_type": "stream",
          "name": "stdout",
          "text": [
            "Sí\n",
            "No\n"
          ]
        }
      ]
    },
    {
      "cell_type": "markdown",
      "source": [
        "### **1.1.4 Otras expresiones condicionales**\n",
        "\n",
        "Las estructuras de control vistas hasta el momento están definidas como **sentencias** pues no tienen valor. No se puede asignar un **`if`** directamente a una variable o usarlo en una expresión.\n",
        "\n",
        "No obstante, _Python_ dispone de una solución idiomática y expresiva para la escritura rápida de expresiones cuyo valor dependen de la evaluación de una condición.\n",
        "\n",
        "Esta **expresión condicional** (a veces también llamada **operador ternario**) se escribe de la siguiente forma:\n",
        "\n",
        "```python\n",
        "valor_A if condición else valor_B\n",
        "```\n",
        "\n",
        "Esto se puede leer del inglés que pretende emular como _\"este valor es A si se cumple esto. De lo contrario es B\"_.\n",
        "\n",
        "Veamos un ejemplo:"
      ],
      "metadata": {
        "id": "SGRtZ-tMmW_5"
      }
    },
    {
      "cell_type": "code",
      "metadata": {
        "id": "S3L5zoQiT4wj",
        "colab": {
          "base_uri": "https://localhost:8080/"
        },
        "outputId": "a2ed374b-4317-487b-ffc9-c0bb8a39a647"
      },
      "source": [
        " # Conteo de intentos restantes\n",
        "count = 1\n",
        "\n",
        "if count == 1:\n",
        "  palabra = 'intento'\n",
        "else:\n",
        "  palabra = 'intentos'\n",
        "\n",
        "print(f\"Tienes {count} {palabra}.\")"
      ],
      "execution_count": null,
      "outputs": [
        {
          "output_type": "stream",
          "name": "stdout",
          "text": [
            "Tienes 1 intento.\n"
          ]
        }
      ]
    },
    {
      "cell_type": "markdown",
      "metadata": {
        "id": "jOKmXFsIUJFI"
      },
      "source": [
        "El código anterior es equivalente a este, escrito con una expresión condicional:"
      ]
    },
    {
      "cell_type": "code",
      "metadata": {
        "id": "ZeNYFNzLLG6b",
        "outputId": "19136c39-9fcf-427f-fa34-8be76f8a510d",
        "colab": {
          "base_uri": "https://localhost:8080/"
        }
      },
      "source": [
        "# Conteo de intentos restantes\n",
        "count = 1\n",
        "\n",
        "print(f\"Tienes {count} {'intento' if count == 1 else 'intentos'}.\")"
      ],
      "execution_count": null,
      "outputs": [
        {
          "output_type": "stream",
          "name": "stdout",
          "text": [
            "Tienes 1 intento.\n"
          ]
        }
      ]
    },
    {
      "cell_type": "markdown",
      "metadata": {
        "id": "1nTRgBeKLgT0"
      },
      "source": [
        "La expresión\n",
        "```python\n",
        "'intento' if count == 1 else 'intentos'\n",
        "```\n",
        "\n",
        "evalúa si la cantidad es igual a $1$ o es distinta, para definir si la palabra \"intento\" se escribe en singular o en plural.\n",
        "\n"
      ]
    },
    {
      "cell_type": "markdown",
      "metadata": {
        "id": "lCwhPbndMX2m"
      },
      "source": [
        "> **Nota**: no se puede extender este tipo de expresiones con condiciones **`elif`** intermedias. Deberían ser usadas para facilitar la lectura del código y como sintaxis resumida."
      ]
    },
    {
      "cell_type": "markdown",
      "metadata": {
        "id": "mD8e_eBKBIR4"
      },
      "source": [
        "### **1.1.5. Sentencias de control de excepciones (Opcional)**\n",
        "---\n",
        "\n",
        "Como se ha discutido en varios ejemplos, cuando detalles como  el tipo de operación no son válidos, _Python_ genera un **error de ejecución**. Existe una estructura de control similar a las sentencias **`if`**, **`else`** y **`elif`** que permite capturar este tipo de excepciones y ejecutar código adicional.\n",
        "\n",
        "Esta es la pareja de sentencias **`try`** y **`except`**. En el bloque de código de la primera se ejecuta el código que puede producir errores, y en la rama de la segunda se definen las acciones a realizar cuando se identifica una excepción.\n",
        "\n",
        "> **Nota:** las excepciones de sintaxis no pueden ser capturadas por estas estructuras de control.\n",
        "\n"
      ]
    },
    {
      "cell_type": "code",
      "metadata": {
        "id": "en3yIzmNElVo",
        "colab": {
          "base_uri": "https://localhost:8080/",
          "height": 211
        },
        "outputId": "0478647e-2b9d-4b05-a6cd-8ec777b8f3fb"
      },
      "source": [
        "# Ejecutamos una conversión inválida.\n",
        "n = int(\"500$\")\n",
        "print(n)"
      ],
      "execution_count": null,
      "outputs": [
        {
          "output_type": "error",
          "ename": "ValueError",
          "evalue": "ignored",
          "traceback": [
            "\u001b[0;31m---------------------------------------------------------------------------\u001b[0m",
            "\u001b[0;31mValueError\u001b[0m                                Traceback (most recent call last)",
            "\u001b[0;32m<ipython-input-17-02cf8a5f3bac>\u001b[0m in \u001b[0;36m<cell line: 2>\u001b[0;34m()\u001b[0m\n\u001b[1;32m      1\u001b[0m \u001b[0;31m# Ejecutamos una conversión inválida.\u001b[0m\u001b[0;34m\u001b[0m\u001b[0;34m\u001b[0m\u001b[0m\n\u001b[0;32m----> 2\u001b[0;31m \u001b[0mn\u001b[0m \u001b[0;34m=\u001b[0m \u001b[0mint\u001b[0m\u001b[0;34m(\u001b[0m\u001b[0;34m\"500$\"\u001b[0m\u001b[0;34m)\u001b[0m\u001b[0;34m\u001b[0m\u001b[0;34m\u001b[0m\u001b[0m\n\u001b[0m\u001b[1;32m      3\u001b[0m \u001b[0mprint\u001b[0m\u001b[0;34m(\u001b[0m\u001b[0mn\u001b[0m\u001b[0;34m)\u001b[0m\u001b[0;34m\u001b[0m\u001b[0;34m\u001b[0m\u001b[0m\n",
            "\u001b[0;31mValueError\u001b[0m: invalid literal for int() with base 10: '500$'"
          ]
        }
      ]
    },
    {
      "cell_type": "code",
      "metadata": {
        "id": "7r_MpjIiEC0i",
        "colab": {
          "base_uri": "https://localhost:8080/"
        },
        "outputId": "56a79387-dac4-44d0-c245-35ceddc6c0fc"
      },
      "source": [
        "# Realizamos la misma operación con try-except.\n",
        "try:\n",
        "  n = int(\"500$\")\n",
        "  #print(n.sign())\n",
        "except:\n",
        "  print(\"Se ha producido un error.\")"
      ],
      "execution_count": null,
      "outputs": [
        {
          "output_type": "stream",
          "name": "stdout",
          "text": [
            "Se ha producido un error.\n"
          ]
        }
      ]
    },
    {
      "cell_type": "markdown",
      "metadata": {
        "id": "OxCYZBpPE1t_"
      },
      "source": [
        "En la sentencia **`except`** podemos indicar el tipo de excepción que queremos capturar. Por ejemplo, el error de conversión anterior es una excepción de tipo **`ValueError`**."
      ]
    },
    {
      "cell_type": "code",
      "metadata": {
        "id": "3gvemOr6FSP4",
        "colab": {
          "base_uri": "https://localhost:8080/"
        },
        "outputId": "c5a8dd54-7498-489e-d858-8fe761560519"
      },
      "source": [
        "# Realizamos la misma operación con try-except.\n",
        "try:\n",
        "  n = int(\"500$\")\n",
        "  print(n.sign())\n",
        "except ValueError as error:\n",
        "    print(\"Se ha producido un error de tipo ValueError:\")\n",
        "    print(error)"
      ],
      "execution_count": null,
      "outputs": [
        {
          "output_type": "stream",
          "name": "stdout",
          "text": [
            "Se ha producido un error de tipo ValueError:\n",
            "invalid literal for int() with base 10: '500$'\n"
          ]
        }
      ]
    },
    {
      "cell_type": "markdown",
      "metadata": {
        "id": "dk2JYP6IF6Ft"
      },
      "source": [
        "Cuando se identifica una excepción en el bloque **`try`**, se termina la ejecución del bloque y se pasa inmediatamente al bloque **`except`**. En el código anterior había un error de atributo (se intentó llamar un método que no existe), pero la ejecución no alcanzó a llegar a ese punto."
      ]
    },
    {
      "cell_type": "code",
      "metadata": {
        "id": "bW42WtMaGFea"
      },
      "source": [
        "try:\n",
        "  n = int(\"500\")\n",
        "  #print(n.sign())\n",
        "except ValueError as error:\n",
        "    print(\"Se ha producido un error de tipo ValueError:\")\n",
        "    print(error)"
      ],
      "execution_count": null,
      "outputs": []
    },
    {
      "cell_type": "markdown",
      "metadata": {
        "id": "Q74vY8PyGTq7"
      },
      "source": [
        "Podemos capturar excepciones genéricas con el tipo de error **`Exception`**:"
      ]
    },
    {
      "cell_type": "code",
      "metadata": {
        "id": "rTM0-8GqGa6g"
      },
      "source": [
        "try:\n",
        "  n = int(\"500\")\n",
        "  print(n.sign())\n",
        "except Exception as error:\n",
        "    print(f\"Se ha producido un error de tipo {type(error)}:\")\n",
        "    print(error)"
      ],
      "execution_count": null,
      "outputs": []
    },
    {
      "cell_type": "markdown",
      "metadata": {
        "id": "6Y3hEYnHG0J4"
      },
      "source": [
        "Para más información acerca del tipo de excepciones identificadas por _Python_ puede consultar el siguiente [enlace](https://docs.python.org/3.7/library/exceptions.html)."
      ]
    }
  ]
}