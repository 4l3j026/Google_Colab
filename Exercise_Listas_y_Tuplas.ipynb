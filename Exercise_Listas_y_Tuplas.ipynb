{
  "nbformat": 4,
  "nbformat_minor": 0,
  "metadata": {
    "colab": {
      "provenance": [],
      "include_colab_link": true
    },
    "kernelspec": {
      "name": "python3",
      "display_name": "Python 3"
    },
    "language_info": {
      "name": "python"
    }
  },
  "cells": [
    {
      "cell_type": "markdown",
      "metadata": {
        "id": "view-in-github",
        "colab_type": "text"
      },
      "source": [
        "<a href=\"https://colab.research.google.com/github/4l3j026/Google_Colab/blob/main/Exercise_Listas_y_Tuplas.ipynb\" target=\"_parent\"><img src=\"https://colab.research.google.com/assets/colab-badge.svg\" alt=\"Open In Colab\"/></a>"
      ]
    },
    {
      "cell_type": "markdown",
      "source": [
        "##Daniel Alejandro Reyes León\n",
        "#Código: 81789"
      ],
      "metadata": {
        "id": "JNdyfvMRDavN"
      }
    },
    {
      "cell_type": "markdown",
      "source": [
        "##**Ejercicios**\n",
        "---\n",
        "\n",
        "1. Escribir un programa que almacene los vectores (1,2,3) y (-1,0,2) en dos tuplas y muestre por pantalla su producto escalar."
      ],
      "metadata": {
        "id": "FKhoxygthes_"
      }
    },
    {
      "cell_type": "code",
      "source": [
        "#@markdown * **Ejecute esta celda para instalar _Python Tutor_.**\n",
        "!pip3 -q install tutormagic\n",
        "%load_ext tutormagic"
      ],
      "metadata": {
        "colab": {
          "base_uri": "https://localhost:8080/"
        },
        "id": "DXlozOu7SvTR",
        "outputId": "fff05d21-3700-4b07-96f6-aea3cf6a5cf0"
      },
      "execution_count": 42,
      "outputs": [
        {
          "output_type": "stream",
          "name": "stdout",
          "text": [
            "\u001b[2K     \u001b[90m━━━━━━━━━━━━━━━━━━━━━━━━━━━━━━━━━━━━━━━━\u001b[0m \u001b[32m123.4/123.4 kB\u001b[0m \u001b[31m3.1 MB/s\u001b[0m eta \u001b[36m0:00:00\u001b[0m\n",
            "\u001b[2K     \u001b[90m━━━━━━━━━━━━━━━━━━━━━━━━━━━━━━━━━━━━━━━━\u001b[0m \u001b[32m93.5/93.5 kB\u001b[0m \u001b[31m11.8 MB/s\u001b[0m eta \u001b[36m0:00:00\u001b[0m\n",
            "\u001b[2K     \u001b[90m━━━━━━━━━━━━━━━━━━━━━━━━━━━━━━━━━━━━━━━━\u001b[0m \u001b[32m1.6/1.6 MB\u001b[0m \u001b[31m27.6 MB/s\u001b[0m eta \u001b[36m0:00:00\u001b[0m\n",
            "\u001b[?25h"
          ]
        }
      ]
    },
    {
      "cell_type": "code",
      "execution_count": 20,
      "metadata": {
        "id": "weLAg_-1heCI",
        "colab": {
          "base_uri": "https://localhost:8080/"
        },
        "outputId": "bb6ef905-7d16-4903-f5d1-2e6bafe0ea73"
      },
      "outputs": [
        {
          "output_type": "stream",
          "name": "stdout",
          "text": [
            "El producto escalar entre el  vector: (1, 2, 3) & el vector: (-1, 0, 2) es =  5\n"
          ]
        }
      ],
      "source": [
        "vector_1 = 1, 2, 3\n",
        "vector_2 = -1, 0, 2\n",
        "\n",
        "i = (vector_1[0] * vector_2[0])\n",
        "j = (vector_1[1] * vector_2[1])\n",
        "k = (vector_1[2] * vector_2[2])\n",
        "\n",
        "producto = (i+j+k)\n",
        "\n",
        "print(f\"El producto escalar entre el  vector: {vector_1} y el vector: {vector_2} es = \", producto)"
      ]
    },
    {
      "cell_type": "markdown",
      "source": [
        "2. Crea una tupla con los meses del año, pide números al usuario, si el numero esta entre 1 y la longitud máxima de la tupla, muestra el contenido de esa posición sino muestra un mensaje de error.\n",
        "\n",
        "El programa termina cuando el usuario introduce un cero."
      ],
      "metadata": {
        "id": "0s9PZKNWhvr7"
      }
    },
    {
      "cell_type": "code",
      "source": [
        "#%%tutor -s -h 500\n",
        "\n",
        "condicion = 1\n",
        "\n",
        "meses = \" \", \"Enero\", \"Febrero\", \"Marzo\", \"Abril\", \"Mayo\", \"Junio\", \"Julio\", \"Agosto\", \"Septiembre\", \"Octubre\", \"Noviembre\", \"Diciembre\"\n",
        "\n",
        "tamaño_meses = len(meses)\n",
        "\n",
        "while (condicion):\n",
        "\n",
        "  try:\n",
        "\n",
        "    numero = int(input(\"Ingrese un número del mes: \"))\n",
        "\n",
        "  except ValueError as e:\n",
        "\n",
        "    print(e)\n",
        "    print(\"Error en el valor ingresado\")\n",
        "    break\n",
        "\n",
        "  if numero < 13 and numero > 0:\n",
        "\n",
        "    print(meses[numero])\n",
        "\n",
        "  else:\n",
        "    print(\"Programa terminado.\")\n",
        "    break\n",
        "\n",
        "\n"
      ],
      "metadata": {
        "id": "QFK2tTcPiTin",
        "colab": {
          "base_uri": "https://localhost:8080/"
        },
        "outputId": "cceab06a-9347-4af5-e900-448b6a4ec3ba"
      },
      "execution_count": null,
      "outputs": [
        {
          "output_type": "stream",
          "name": "stderr",
          "text": [
            "/usr/local/lib/python3.10/dist-packages/ipykernel/ipkernel.py:283: DeprecationWarning: `should_run_async` will not call `transform_cell` automatically in the future. Please pass the result to `transformed_cell` argument and any exception that happen during thetransform in `preprocessing_exc_tuple` in IPython 7.17 and above.\n",
            "  and should_run_async(code)\n"
          ]
        }
      ]
    },
    {
      "cell_type": "markdown",
      "source": [
        "3. Cree una tupla con números, pida un numero por teclado e indique cuantas veces se repite.\n"
      ],
      "metadata": {
        "id": "sSwxHxm2i-hI"
      }
    },
    {
      "cell_type": "code",
      "source": [],
      "metadata": {
        "id": "QQBVhGJ_jUH4"
      },
      "execution_count": null,
      "outputs": []
    },
    {
      "cell_type": "markdown",
      "source": [
        "\n",
        "4. Cree una tupla con números e indique el número con mayor valor y el que menor tenga.\n",
        "\n",
        "\n"
      ],
      "metadata": {
        "id": "OsuKP6I5jkGC"
      }
    },
    {
      "cell_type": "code",
      "source": [],
      "metadata": {
        "id": "J9JFTZaJjj0j"
      },
      "execution_count": null,
      "outputs": []
    },
    {
      "cell_type": "markdown",
      "source": [
        "5. Cree una tupla con valores ya predefinidos del 1 al 10, pida un índice por teclado y muestre los valores de la tupla.\n",
        "\n"
      ],
      "metadata": {
        "id": "q_s5gQCtj3KF"
      }
    },
    {
      "cell_type": "code",
      "source": [],
      "metadata": {
        "id": "npdmoJqrj3cB"
      },
      "execution_count": null,
      "outputs": []
    },
    {
      "cell_type": "markdown",
      "source": [
        "6. Cree una tupla con valores de notas del estudiante Eric Cartman debemos calcular su promedio 2.3, 2.5,  5.0,  5.0      \n"
      ],
      "metadata": {
        "id": "ijfIwYLlPLR3"
      }
    },
    {
      "cell_type": "code",
      "source": [],
      "metadata": {
        "id": "Of9h96rrQ1N0"
      },
      "execution_count": null,
      "outputs": []
    },
    {
      "cell_type": "markdown",
      "source": [
        "Debe desarrollarse un programa que acepte como datos de insumo una lista de voltios en python, calcular el promedio y la desviación estándar de los voltajes de insumo y desplegar los resultados.\n",
        "\n",
        "Para calcular la desviación estándar primero reste el promedio a cada voltaje individual, esto da como resultado un conjunto de nuevos números, a cada uno de los cuales se les denomina desviación. Segundo, eleve al cuadrado la desviación encontrada en el paso anterior, después sume las desviaciones elevadas al cuadrado y divida la suma entre el número de desviaciones,  siguiente a esto calcule la raíz cuadrada del número calculado en el paso anterior, esta será la desviación estándar. Probar y corregir el programa:\n",
        "\n",
        "\n",
        "![Ejercicio.jpg](data:image/jpeg;base64,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)"
      ],
      "metadata": {
        "id": "UWUCZJ90B7Pt"
      }
    }
  ]
}