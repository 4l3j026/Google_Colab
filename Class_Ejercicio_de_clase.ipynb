{
  "nbformat": 4,
  "nbformat_minor": 0,
  "metadata": {
    "colab": {
      "private_outputs": true,
      "provenance": [],
      "include_colab_link": true
    },
    "kernelspec": {
      "name": "python3",
      "display_name": "Python 3"
    },
    "language_info": {
      "name": "python"
    }
  },
  "cells": [
    {
      "cell_type": "markdown",
      "metadata": {
        "id": "view-in-github",
        "colab_type": "text"
      },
      "source": [
        "<a href=\"https://colab.research.google.com/github/4l3j026/Google_Colab/blob/main/Class_Ejercicio_de_clase.ipynb\" target=\"_parent\"><img src=\"https://colab.research.google.com/assets/colab-badge.svg\" alt=\"Open In Colab\"/></a>"
      ]
    },
    {
      "cell_type": "markdown",
      "source": [
        "## **Taller estruturas de control**\n",
        "Electiva profesional - Ingeniería Mecatrónica\n",
        "\n",
        "---\n",
        "\n"
      ],
      "metadata": {
        "id": "J3pj-S0Nz2QZ"
      }
    },
    {
      "cell_type": "markdown",
      "source": [
        "**PUNTO 1**\n",
        "Este primer ejercicio es bastante sencillo. Desarrolle un programa que le permita ingresar *n* catidad de datos ingresados por el usuario y finalmente pueda encontrar el promedio de ellos."
      ],
      "metadata": {
        "id": "qtXoszRG0JXN"
      }
    },
    {
      "cell_type": "code",
      "execution_count": null,
      "metadata": {
        "id": "4Zyjq2tGz1Tj"
      },
      "outputs": [],
      "source": [
        "#DECLARAR E INICIALIZAR LAS VARIABLES NECESARIAS\n",
        "\n",
        "\n",
        "#SOLICITAR LA CANTIDAD DE DATOS A INGRESAR\n",
        "\n",
        "\n",
        "#VERIFICAR SI LA CANTIDAD  INGRESADA ES CORRECTA\n",
        "\n",
        "\n",
        "\n",
        "#ACUMULAR LOS NÚMEROS\n",
        "\n",
        "\n",
        "\n",
        "#CALCULAR E IMPRIMIR EL PROMEDIO"
      ]
    },
    {
      "cell_type": "markdown",
      "source": [
        "**PUNTO 2**\n",
        "El objetivo de este ejercicio es que desarrolle un programa en Python que verifique si una frase ingresada por el usuario es un palíndromo. Un palíndromo es una palabra, frase, número o cualquier otro elemento que se lee igual de adelante hacia atrás que de atrás hacia adelante, despreciando los espacios en blanco y sin distinguir entre mayúsculas y minúsculas."
      ],
      "metadata": {
        "id": "Fu87aDnm1_3S"
      }
    },
    {
      "cell_type": "code",
      "source": [
        "#Pistas:\n",
        "''' 1. Recuerde las funciones de longitud en las cadenas de caracteres\n",
        "    2. Recuerde las funciones de reemplazar valores en una cadena de caracteres\n",
        "    3. Recuerde que usted puede cambiar cualquier palabra con caracteres en mayúscula a minúscula'''\n"
      ],
      "metadata": {
        "id": "Vl9ImUMpJOyB"
      },
      "execution_count": null,
      "outputs": []
    }
  ]
}