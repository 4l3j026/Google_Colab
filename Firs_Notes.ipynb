{
  "nbformat": 4,
  "nbformat_minor": 0,
  "metadata": {
    "colab": {
      "provenance": [],
      "authorship_tag": "ABX9TyOPxzXRxoqybE9qX4MM0RXO",
      "include_colab_link": true
    },
    "kernelspec": {
      "name": "python3",
      "display_name": "Python 3"
    },
    "language_info": {
      "name": "python"
    }
  },
  "cells": [
    {
      "cell_type": "markdown",
      "metadata": {
        "id": "view-in-github",
        "colab_type": "text"
      },
      "source": [
        "<a href=\"https://colab.research.google.com/github/4l3j026/Google_Colab/blob/main/Firs_Notes.ipynb\" target=\"_parent\"><img src=\"https://colab.research.google.com/assets/colab-badge.svg\" alt=\"Open In Colab\"/></a>"
      ]
    },
    {
      "cell_type": "markdown",
      "source": [
        "# About My Project\n",
        "**Test**"
      ],
      "metadata": {
        "id": "zhGB8WdPkBjb"
      }
    },
    {
      "cell_type": "code",
      "source": [
        "A = 10"
      ],
      "metadata": {
        "id": "o9UPICtoT6Ti"
      },
      "execution_count": 1,
      "outputs": []
    },
    {
      "cell_type": "code",
      "source": [
        "print(\"Hello World! \\n\", A)"
      ],
      "metadata": {
        "id": "c6ZjbooVkIbA",
        "colab": {
          "base_uri": "https://localhost:8080/"
        },
        "outputId": "ec4487cb-7852-4839-b9cd-3f77cac9f957"
      },
      "execution_count": 2,
      "outputs": [
        {
          "output_type": "stream",
          "name": "stdout",
          "text": [
            "Hello World! \n",
            " 10\n"
          ]
        }
      ]
    }
  ]
}