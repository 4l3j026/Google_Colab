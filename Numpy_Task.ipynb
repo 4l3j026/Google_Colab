{
  "nbformat": 4,
  "nbformat_minor": 0,
  "metadata": {
    "colab": {
      "provenance": [],
      "include_colab_link": true
    },
    "kernelspec": {
      "name": "python3",
      "display_name": "Python 3"
    }
  },
  "cells": [
    {
      "cell_type": "markdown",
      "metadata": {
        "id": "view-in-github",
        "colab_type": "text"
      },
      "source": [
        "<a href=\"https://colab.research.google.com/github/4l3j026/Google_Colab/blob/main/Numpy_Task.ipynb\" target=\"_parent\"><img src=\"https://colab.research.google.com/assets/colab-badge.svg\" alt=\"Open In Colab\"/></a>"
      ]
    },
    {
      "cell_type": "markdown",
      "source": [
        "#Sergio David Olmos Ramirez\n",
        "Cod: 83502\n",
        "#Daniel Alejandro Reyes León\n",
        "Cod: 81789"
      ],
      "metadata": {
        "id": "hdQYh1ILtLDt"
      }
    },
    {
      "cell_type": "markdown",
      "metadata": {
        "id": "pkkvyA6UFg96"
      },
      "source": [
        "# **Quiz - Librería numérica de *Python*: *NumPy***\n",
        "---\n",
        "\n",
        "Este quiz le servirá para practicar las habilidades adquiridas usando la librería numérica *NumPy*, en el manejo de arreglos y uso de funciones de computación científica.\n"
      ]
    },
    {
      "cell_type": "markdown",
      "metadata": {
        "id": "eJJykxh8MyBY"
      },
      "source": [
        "Ejecute la siguiente celda para importar *NumPy*."
      ]
    },
    {
      "cell_type": "code",
      "metadata": {
        "id": "6g1JOpy23_m8"
      },
      "source": [
        "import numpy as np"
      ],
      "execution_count": 1,
      "outputs": []
    },
    {
      "cell_type": "code",
      "metadata": {
        "id": "DiEYWWm9sEy-",
        "colab": {
          "base_uri": "https://localhost:8080/"
        },
        "outputId": "e5a1b6ea-5b99-436d-d290-24eff35cac1d"
      },
      "source": [
        "!python --version\n",
        "print('NumPy', np.__version__)"
      ],
      "execution_count": 2,
      "outputs": [
        {
          "output_type": "stream",
          "name": "stdout",
          "text": [
            "Python 3.10.12\n",
            "NumPy 1.25.2\n"
          ]
        }
      ]
    },
    {
      "cell_type": "markdown",
      "metadata": {
        "id": "9XBOPST5sDhp"
      },
      "source": [
        "Este material fue realizado con las siguientes versiones:\n",
        "\n",
        "- Python 3.6.9\n",
        "\n",
        "- NumPy: 1.19.5\n"
      ]
    },
    {
      "cell_type": "markdown",
      "metadata": {
        "id": "kQIkVlaHtDyS"
      },
      "source": [
        "> **IMPORTANTE:** Se le recomienda resolver estos ejercicios **sin** usar estructuras de control como **`if`** o **`for`**. Con *NumPy* y *Python* se pueden obtener soluciones muy concisas. Si está acostumbrado a trabajar en lenguajes de programación como *Java* o *C*, se recomienda hacer el esfuerzo de pensar cómo se puede llegar a una solución **sin** usar estructuras de control para sacar un mejor provecho de la conveniente sintaxis de *Python* y sus librerías."
      ]
    },
    {
      "cell_type": "markdown",
      "metadata": {
        "id": "cYvNm9BH46tg"
      },
      "source": [
        "## **1. Normalización**\n",
        "---\n",
        "\n",
        "La normalización es una operación muy común en el análisis de datos y el aprendizaje computacional con el cual se pretende obtener una escala y rango común para conjuntos de datos numéricos.\n",
        "\n",
        "Uno de los métodos de normalización más comunes es la **normalización estándar**, donde se calcula el puntaje estándar (o puntaje $z$) para cada valor y se usa para representar la posición de cada dato con respecto al conjunto. Esta normalización se obtiene al restar la media aritmética a cada dato (centrando los datos) y dividiendo este resultado entre la desviación estándar (reescalando).\n",
        "\n",
        "\n",
        "> **Nota:** La media aritmética y la desviación estándar son conceptos de estadística descriptiva básica.\n",
        "\n",
        "La normalización estándar se puede definir mediante la siguiente fórmula:\n",
        "\n",
        "$$z_i = \\frac{x_i - \\mu}{\\sigma}$$\n",
        "\n",
        "Donde $\\mu$ es la media y $\\sigma$ es la desviación estándar de los datos.\n",
        "\n",
        "En este ejercicio usted deberá implementar la función **`normalizacion`**, que reciba como argumento un arreglo de *NumPy* **`X`** con dimensión **`(n,)`** y retorne un arreglo normalizado con la misma dimensión.\n",
        "\n",
        "\n"
      ]
    },
    {
      "cell_type": "markdown",
      "metadata": {
        "id": "xKYMkTRz7-dQ"
      },
      "source": [
        "<details>    \n",
        "<summary>\n",
        "    <font size=\"3\" color=\"darkgreen\"><b>Pistas</b></font>\n",
        "</summary>\n",
        "\n",
        "* Puede calcular la media de un arreglo de *NumPy* con la función **`.mean()`**.\n",
        "* Puede calcular la desviación estándar de un arreglo de *NumPy* con la función **`.std()`**.\n",
        "* Recuerde que en *NumPy* los vectores, matrices y valores escalares se pueden operar entre sí directamente usando operadores matemáticos como **`*`** y **`+`**.\n"
      ]
    },
    {
      "cell_type": "markdown",
      "source": [],
      "metadata": {
        "id": "5DzFfGCUtHaW"
      }
    },
    {
      "cell_type": "code",
      "metadata": {
        "id": "UQrwNRoH48Mx"
      },
      "source": [
        "# FUNCIÓN CALIFICADA: normalizacion(X)\n",
        "\n",
        "  \"\"\"\n",
        "  X: un arreglo de NumPy con dimensión (n,)\n",
        "\n",
        "  Retorna el arreglo X normalizado con dimensión (n,)\n",
        "  \"\"\"\n",
        "  ### ESCRIBA SU CÓDIGO AQUÍ ###\n",
        "  # Reemplace la palabra None por el código correspondiente\n",
        "  # ~ 4 líneas de código\n",
        "\n",
        "  # Obtenga la media de los datos.\n",
        "\n",
        "  # Obtenga la desviación estándar de los datos.\n",
        "\n",
        "  # Calcule la normalización.\n",
        "\n",
        "  ### FIN DEL CÓDIGO ###\n"
      ],
      "execution_count": null,
      "outputs": []
    },
    {
      "cell_type": "code",
      "source": [
        "def normalizacion (arr):\n",
        "\n",
        "  med = arr.mean()\n",
        "  desv = arr.std()\n",
        "  z = (arr - med) / desv\n",
        "\n",
        "  return z\n",
        "\n",
        "arreglo = np.array([4.8, 4.0, 4.2, 4.0, 5.0])\n",
        "\n",
        "print(normalizacion(arreglo))"
      ],
      "metadata": {
        "colab": {
          "base_uri": "https://localhost:8080/"
        },
        "id": "_PH-z1uFiEEC",
        "outputId": "d1eb362c-a9be-4577-893d-4ed31067f1b3"
      },
      "execution_count": 7,
      "outputs": [
        {
          "output_type": "stream",
          "name": "stdout",
          "text": [
            "[ 0.95346259 -0.95346259 -0.47673129 -0.95346259  1.43019388]\n"
          ]
        }
      ]
    },
    {
      "cell_type": "code",
      "metadata": {
        "id": "2SZCmcwwaDmY",
        "colab": {
          "base_uri": "https://localhost:8080/"
        },
        "outputId": "4b99804a-1694-45b2-f67a-f6de3222eda1"
      },
      "source": [
        "# CELDA DE PRUEBAS\n",
        "X0 = np.array([4.8, 4.0, 4.2, 4.0, 5.0])\n",
        "\n",
        "normalizacion(X0)"
      ],
      "execution_count": 9,
      "outputs": [
        {
          "output_type": "execute_result",
          "data": {
            "text/plain": [
              "array([ 0.95346259, -0.95346259, -0.47673129, -0.95346259,  1.43019388])"
            ]
          },
          "metadata": {},
          "execution_count": 9
        }
      ]
    },
    {
      "cell_type": "markdown",
      "metadata": {
        "id": "yYnpYiufaBNg"
      },
      "source": [
        "La salida de la celda anterior debería ser:\n",
        "```\n",
        "array([ 0.95346259, -0.95346259, -0.47673129, -0.95346259,  1.43019388])\n",
        "```"
      ]
    },
    {
      "cell_type": "code",
      "metadata": {
        "id": "EhgX1Y9ug1mk",
        "colab": {
          "base_uri": "https://localhost:8080/"
        },
        "outputId": "196ad6d1-2510-4596-fc4b-a0bf8716b287"
      },
      "source": [
        "# CELDA DE PRUEBAS\n",
        "X1 = np.arange(5)\n",
        "\n",
        "normalizacion(X1)"
      ],
      "execution_count": 8,
      "outputs": [
        {
          "output_type": "execute_result",
          "data": {
            "text/plain": [
              "array([-1.41421356, -0.70710678,  0.        ,  0.70710678,  1.41421356])"
            ]
          },
          "metadata": {},
          "execution_count": 8
        }
      ]
    },
    {
      "cell_type": "markdown",
      "metadata": {
        "id": "czofk93nh24v"
      },
      "source": [
        "La salida de la celda anterior debería ser:\n",
        "```\n",
        "array([-1.41421356, -0.70710678,  0.        ,  0.70710678,  1.41421356])\n",
        "```"
      ]
    },
    {
      "cell_type": "markdown",
      "metadata": {
        "id": "FH73plrpFJMO"
      },
      "source": [
        "## **2. Matriz diagonal**\n",
        "---\n",
        "En el área de ciencia de datos es muy importante realizar operaciones de álgebra lineal para manipular adecuadamente vectores y matrices de gran tamaño. *NumPy* es una herramienta muy importante para la conceptualización y automatización de este tipo de operaciones.\n",
        "\n",
        "En este ejercicio deberá implementar la función **`matriz_diagonal`**, que toma una matriz (un arreglo de *NumPy* de $2$ dimensiones) de tamaño $N \\times M$ y genera una matriz diagonal con los elementos de su diagonal principal.\n",
        "\n",
        "> Una matriz diagonal es una matriz cuadrada (misma cantidad de filas que de columnas) que tiene valores nulos ($0$) en todas sus entradas salvo aquellas de la diagonal principal (los elementos cuya fila y columna corresponden).\n",
        "\n",
        "La matriz a generar debe tener tamaño $L \\times L$, donde $L$ es el valor menor entre $N$ y $M$, y deberá ser un arreglo de *NumPy* con dimensiones **`(L, L)`**.\n",
        "\n",
        "\n",
        "Por ejemplo, para las siguientes matrices el resultado debería ser el siguiente:\n",
        "\n",
        "* **Para $N$ < $M$**\n",
        "$$\\begin{bmatrix}\n",
        "1 & 0 & 2 & 9 & 2\\\\\n",
        "9 & 2 & 6 & 5 & 7\\\\\n",
        "6 & 4 & 3 & 4 & 7\n",
        "\\end{bmatrix} \\rightarrow\n",
        "\\begin{bmatrix}\n",
        "\\mathbf{1} & 0 & 0 \\\\\n",
        "0 & \\mathbf{2 }& 0 \\\\\n",
        "0 & 0 & \\boldsymbol{\\mathbf{}3 }\n",
        "\\end{bmatrix}$$\n",
        "\n",
        "* **Para $N$ > $M$**\n",
        "$$\\begin{bmatrix}\n",
        "1 & 0 & 2\\\\\n",
        "9 & 2 & 6 \\\\\n",
        "6 & 4 & 3 \\\\\n",
        "1 & 0 & 5\n",
        "\\end{bmatrix} \\rightarrow\n",
        "\\begin{bmatrix}\n",
        "\\mathbf{1} & 0 & 0 \\\\\n",
        "0 & \\mathbf{2 }& 0 \\\\\n",
        "0 & 0 & \\boldsymbol{\\mathbf{}3 }\n",
        "\\end{bmatrix}$$\n",
        "\n"
      ]
    },
    {
      "cell_type": "markdown",
      "metadata": {
        "id": "EgYdzb6XP4Ft"
      },
      "source": [
        "<details>    \n",
        "<summary>\n",
        "    <font size=\"3\" color=\"darkgreen\"><b>Pistas</b></font>\n",
        "</summary>\n",
        "\n",
        "* El tamaño de la matriz de entrada puede ser obtenido con su atributo **`.shape`**.\n",
        "* Con la función **`np.eye(n,m)`** puede generar matrices identidad: matrices cuya diagonal tiene el valor de $1$ y el resto de posiciones son $0$.\n",
        "* Para mantener únicamente los valores originales de la matriz diagonal y dejar los demás valores en $0$, podría realizar operaciones como el producto valor a valor entre la matriz original y una matriz identidad.\n",
        "* Recuerde que el resultado final de la función debe ser una matriz cuadrada.\n",
        "* Puede recortar una matriz usando indexado con intervalos.\n",
        "* A la hora de recortar la matriz debe tener varias cosas en cuenta:\n",
        "  * ¿Debería cortar el principio o el final?\n",
        "  * ¿Debería cortar columnas, filas, o ambas? ¿bajo qué condiciones?"
      ]
    },
    {
      "cell_type": "code",
      "metadata": {
        "id": "vRdi9UUKORTU"
      },
      "source": [
        "# FUNCIÓN CALIFICADA: matriz_diagonal(X)\n",
        "def matriz_diagonal(X):\n",
        "  \"\"\"\n",
        "  X: un arreglo de NumPy con dimensión (n, m)\n",
        "\n",
        "  Retorna un arreglo Y con dimensión (n, n) para n < m, ó (m, m) en caso contrario.\n",
        "  \"\"\"\n",
        "  ### ESCRIBA SU CÓDIGO AQUÍ ###\n",
        "  # Reemplace la palabra None por el código correspondiente\n",
        "  # ~ 4-5 líneas de código\n",
        "  X = np.eye(10, dtype = 'int')\n",
        "\n",
        "  # Obtenga el tamaño del arreglo (ancho y alto).\n",
        "  N, M = None, None\n",
        "  # Obtenga el tamaño del lado de la matriz a generar.\n",
        "  L = None\n",
        "\n",
        "  # Realice operaciones en la matriz para generar Y.\n",
        "  Y = None\n",
        "\n",
        "  ### FIN DEL CÓDIGO ###\n",
        "  return Y"
      ],
      "execution_count": 12,
      "outputs": []
    },
    {
      "cell_type": "code",
      "source": [],
      "metadata": {
        "id": "HF0JoY2Puwnl"
      },
      "execution_count": null,
      "outputs": []
    },
    {
      "cell_type": "code",
      "metadata": {
        "id": "en8hPWjNMtNK"
      },
      "source": [
        "# CELDA DE PRUEBAS\n",
        "X0 = np.array([\n",
        "    [1, 0, 2, 9, 2],\n",
        "    [9, 2, 6, 5, 7],\n",
        "    [6, 4, 3, 4, 7]\n",
        "\n",
        "])\n",
        "\n",
        "matriz_diagonal(X0)"
      ],
      "execution_count": 17,
      "outputs": []
    },
    {
      "cell_type": "markdown",
      "metadata": {
        "id": "bEi_fcZVghiI"
      },
      "source": [
        "La salida de la celda anterior debería ser:\n",
        "```\n",
        "array([[1., 0., 0.],\n",
        "       [0., 2., 0.],\n",
        "       [0., 0., 3.]])\n",
        "```"
      ]
    },
    {
      "cell_type": "code",
      "metadata": {
        "id": "J5aYz8ozgJIZ"
      },
      "source": [
        "# CELDA DE PRUEBAS\n",
        "X1 = np.array([\n",
        "    [4, 0, 2],\n",
        "    [9, 5, 6],\n",
        "    [1, 9, 6],\n",
        "    [3, 0, 5]\n",
        "\n",
        "])\n",
        "\n",
        "matriz_diagonal(X1)"
      ],
      "execution_count": null,
      "outputs": []
    },
    {
      "cell_type": "markdown",
      "metadata": {
        "id": "Ml72W3GtgiEP"
      },
      "source": [
        "La salida de la celda anterior debería ser:\n",
        "```\n",
        "array([[4., 0., 0.],\n",
        "       [0., 5., 0.],\n",
        "       [0., 0., 6.]])\n",
        "```"
      ]
    }
  ]
}